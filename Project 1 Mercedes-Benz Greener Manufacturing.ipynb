{
 "cells": [
  {
   "cell_type": "code",
   "execution_count": 1,
   "id": "f8c9a882",
   "metadata": {},
   "outputs": [],
   "source": [
    "import numpy as np \n",
    "import pandas as pd\n",
    "import matplotlib.pyplot as plt  \n",
    "import seaborn as sns\n",
    "%matplotlib inline "
   ]
  },
  {
   "cell_type": "code",
   "execution_count": 2,
   "id": "8ae3799c",
   "metadata": {},
   "outputs": [],
   "source": [
    "train=pd.read_csv(r\"D:\\Master Program\\Machine Learning\\Projects\\Projects\\Machine-Learning--Projects-master\\Projects\\Projects for Submission\\Project 1 - Mercedes-Benz Greener Manufacturing\\Dataset for the project\\train.csv\" )\n",
    "test=pd.read_csv(r\"D:\\Master Program\\Machine Learning\\Projects\\Projects\\Machine-Learning--Projects-master\\Projects\\Projects for Submission\\Project 1 - Mercedes-Benz Greener Manufacturing\\Dataset for the project\\test.csv\" )"
   ]
  },
  {
   "cell_type": "code",
   "execution_count": 3,
   "id": "e366eaa8",
   "metadata": {},
   "outputs": [
    {
     "name": "stdout",
     "output_type": "stream",
     "text": [
      "(4209, 378)\n",
      "(4209, 377)\n"
     ]
    }
   ],
   "source": [
    "print(train.shape)\n",
    "print(test.shape)"
   ]
  },
  {
   "cell_type": "code",
   "execution_count": 4,
   "id": "9ea9d543",
   "metadata": {},
   "outputs": [
    {
     "name": "stdout",
     "output_type": "stream",
     "text": [
      "<class 'pandas.core.frame.DataFrame'>\n",
      "RangeIndex: 4209 entries, 0 to 4208\n",
      "Columns: 378 entries, ID to X385\n",
      "dtypes: float64(1), int64(369), object(8)\n",
      "memory usage: 12.1+ MB\n"
     ]
    }
   ],
   "source": [
    "train.info()"
   ]
  },
  {
   "cell_type": "code",
   "execution_count": 5,
   "id": "3850e81d",
   "metadata": {},
   "outputs": [
    {
     "data": {
      "text/html": [
       "<div>\n",
       "<style scoped>\n",
       "    .dataframe tbody tr th:only-of-type {\n",
       "        vertical-align: middle;\n",
       "    }\n",
       "\n",
       "    .dataframe tbody tr th {\n",
       "        vertical-align: top;\n",
       "    }\n",
       "\n",
       "    .dataframe thead th {\n",
       "        text-align: right;\n",
       "    }\n",
       "</style>\n",
       "<table border=\"1\" class=\"dataframe\">\n",
       "  <thead>\n",
       "    <tr style=\"text-align: right;\">\n",
       "      <th></th>\n",
       "      <th>ID</th>\n",
       "      <th>y</th>\n",
       "      <th>X0</th>\n",
       "      <th>X1</th>\n",
       "      <th>X2</th>\n",
       "      <th>X3</th>\n",
       "      <th>X4</th>\n",
       "      <th>X5</th>\n",
       "      <th>X6</th>\n",
       "      <th>X8</th>\n",
       "      <th>...</th>\n",
       "      <th>X375</th>\n",
       "      <th>X376</th>\n",
       "      <th>X377</th>\n",
       "      <th>X378</th>\n",
       "      <th>X379</th>\n",
       "      <th>X380</th>\n",
       "      <th>X382</th>\n",
       "      <th>X383</th>\n",
       "      <th>X384</th>\n",
       "      <th>X385</th>\n",
       "    </tr>\n",
       "  </thead>\n",
       "  <tbody>\n",
       "    <tr>\n",
       "      <th>0</th>\n",
       "      <td>0</td>\n",
       "      <td>130.81</td>\n",
       "      <td>k</td>\n",
       "      <td>v</td>\n",
       "      <td>at</td>\n",
       "      <td>a</td>\n",
       "      <td>d</td>\n",
       "      <td>u</td>\n",
       "      <td>j</td>\n",
       "      <td>o</td>\n",
       "      <td>...</td>\n",
       "      <td>0</td>\n",
       "      <td>0</td>\n",
       "      <td>1</td>\n",
       "      <td>0</td>\n",
       "      <td>0</td>\n",
       "      <td>0</td>\n",
       "      <td>0</td>\n",
       "      <td>0</td>\n",
       "      <td>0</td>\n",
       "      <td>0</td>\n",
       "    </tr>\n",
       "    <tr>\n",
       "      <th>1</th>\n",
       "      <td>6</td>\n",
       "      <td>88.53</td>\n",
       "      <td>k</td>\n",
       "      <td>t</td>\n",
       "      <td>av</td>\n",
       "      <td>e</td>\n",
       "      <td>d</td>\n",
       "      <td>y</td>\n",
       "      <td>l</td>\n",
       "      <td>o</td>\n",
       "      <td>...</td>\n",
       "      <td>1</td>\n",
       "      <td>0</td>\n",
       "      <td>0</td>\n",
       "      <td>0</td>\n",
       "      <td>0</td>\n",
       "      <td>0</td>\n",
       "      <td>0</td>\n",
       "      <td>0</td>\n",
       "      <td>0</td>\n",
       "      <td>0</td>\n",
       "    </tr>\n",
       "    <tr>\n",
       "      <th>2</th>\n",
       "      <td>7</td>\n",
       "      <td>76.26</td>\n",
       "      <td>az</td>\n",
       "      <td>w</td>\n",
       "      <td>n</td>\n",
       "      <td>c</td>\n",
       "      <td>d</td>\n",
       "      <td>x</td>\n",
       "      <td>j</td>\n",
       "      <td>x</td>\n",
       "      <td>...</td>\n",
       "      <td>0</td>\n",
       "      <td>0</td>\n",
       "      <td>0</td>\n",
       "      <td>0</td>\n",
       "      <td>0</td>\n",
       "      <td>0</td>\n",
       "      <td>1</td>\n",
       "      <td>0</td>\n",
       "      <td>0</td>\n",
       "      <td>0</td>\n",
       "    </tr>\n",
       "    <tr>\n",
       "      <th>3</th>\n",
       "      <td>9</td>\n",
       "      <td>80.62</td>\n",
       "      <td>az</td>\n",
       "      <td>t</td>\n",
       "      <td>n</td>\n",
       "      <td>f</td>\n",
       "      <td>d</td>\n",
       "      <td>x</td>\n",
       "      <td>l</td>\n",
       "      <td>e</td>\n",
       "      <td>...</td>\n",
       "      <td>0</td>\n",
       "      <td>0</td>\n",
       "      <td>0</td>\n",
       "      <td>0</td>\n",
       "      <td>0</td>\n",
       "      <td>0</td>\n",
       "      <td>0</td>\n",
       "      <td>0</td>\n",
       "      <td>0</td>\n",
       "      <td>0</td>\n",
       "    </tr>\n",
       "    <tr>\n",
       "      <th>4</th>\n",
       "      <td>13</td>\n",
       "      <td>78.02</td>\n",
       "      <td>az</td>\n",
       "      <td>v</td>\n",
       "      <td>n</td>\n",
       "      <td>f</td>\n",
       "      <td>d</td>\n",
       "      <td>h</td>\n",
       "      <td>d</td>\n",
       "      <td>n</td>\n",
       "      <td>...</td>\n",
       "      <td>0</td>\n",
       "      <td>0</td>\n",
       "      <td>0</td>\n",
       "      <td>0</td>\n",
       "      <td>0</td>\n",
       "      <td>0</td>\n",
       "      <td>0</td>\n",
       "      <td>0</td>\n",
       "      <td>0</td>\n",
       "      <td>0</td>\n",
       "    </tr>\n",
       "  </tbody>\n",
       "</table>\n",
       "<p>5 rows × 378 columns</p>\n",
       "</div>"
      ],
      "text/plain": [
       "   ID       y  X0 X1  X2 X3 X4 X5 X6 X8  ...  X375  X376  X377  X378  X379  \\\n",
       "0   0  130.81   k  v  at  a  d  u  j  o  ...     0     0     1     0     0   \n",
       "1   6   88.53   k  t  av  e  d  y  l  o  ...     1     0     0     0     0   \n",
       "2   7   76.26  az  w   n  c  d  x  j  x  ...     0     0     0     0     0   \n",
       "3   9   80.62  az  t   n  f  d  x  l  e  ...     0     0     0     0     0   \n",
       "4  13   78.02  az  v   n  f  d  h  d  n  ...     0     0     0     0     0   \n",
       "\n",
       "   X380  X382  X383  X384  X385  \n",
       "0     0     0     0     0     0  \n",
       "1     0     0     0     0     0  \n",
       "2     0     1     0     0     0  \n",
       "3     0     0     0     0     0  \n",
       "4     0     0     0     0     0  \n",
       "\n",
       "[5 rows x 378 columns]"
      ]
     },
     "execution_count": 5,
     "metadata": {},
     "output_type": "execute_result"
    }
   ],
   "source": [
    "train.head()"
   ]
  },
  {
   "cell_type": "markdown",
   "id": "95665a38",
   "metadata": {},
   "source": [
    "# Check for null and unique values for test and train sets and specifing the columns with zero variance and the columns with categorical data."
   ]
  },
  {
   "cell_type": "code",
   "execution_count": 6,
   "id": "f583db8f",
   "metadata": {},
   "outputs": [],
   "source": [
    "for x in train.isnull().any():\n",
    "    if x==True:\n",
    "        print(1)"
   ]
  },
  {
   "cell_type": "code",
   "execution_count": 7,
   "id": "4fe92342",
   "metadata": {},
   "outputs": [],
   "source": [
    "for x in test.isnull().any():\n",
    "    if x==True:\n",
    "        print(1)"
   ]
  },
  {
   "cell_type": "code",
   "execution_count": 8,
   "id": "c1508e49",
   "metadata": {},
   "outputs": [
    {
     "name": "stdout",
     "output_type": "stream",
     "text": [
      "['X11', 'X93', 'X107', 'X233', 'X235', 'X268', 'X289', 'X290', 'X293', 'X297', 'X330', 'X347']\n"
     ]
    }
   ],
   "source": [
    "remove=[]\n",
    "for col in train.columns:\n",
    "    if train[col].dtype!=\"O\":\n",
    "         if train[col].std()==0:\n",
    "                 remove.append(col)\n",
    "                    \n",
    "print(remove)"
   ]
  },
  {
   "cell_type": "code",
   "execution_count": 9,
   "id": "ce9f5c30",
   "metadata": {},
   "outputs": [
    {
     "name": "stdout",
     "output_type": "stream",
     "text": [
      "['X0', 'X1', 'X2', 'X3', 'X4', 'X5', 'X6', 'X8']\n"
     ]
    }
   ],
   "source": [
    "objest=[]\n",
    "for col in train.columns:\n",
    "    if train[col].dtype==\"O\":\n",
    "             objest.append(col)\n",
    "                    \n",
    "print(objest)"
   ]
  },
  {
   "cell_type": "code",
   "execution_count": 10,
   "id": "559a4b35",
   "metadata": {
    "scrolled": true
   },
   "outputs": [
    {
     "name": "stdout",
     "output_type": "stream",
     "text": [
      "X0\n",
      "['k' 'az' 't' 'al' 'o' 'w' 'j' 'h' 's' 'n' 'ay' 'f' 'x' 'y' 'aj' 'ak' 'am'\n",
      " 'z' 'q' 'at' 'ap' 'v' 'af' 'a' 'e' 'ai' 'd' 'aq' 'c' 'aa' 'ba' 'as' 'i'\n",
      " 'r' 'b' 'ax' 'bc' 'u' 'ad' 'au' 'm' 'l' 'aw' 'ao' 'ac' 'g' 'ab']\n",
      "------------------------------------------------------------------------\n",
      "X1\n",
      "['v' 't' 'w' 'b' 'r' 'l' 's' 'aa' 'c' 'a' 'e' 'h' 'z' 'j' 'o' 'u' 'p' 'n'\n",
      " 'i' 'y' 'd' 'f' 'm' 'k' 'g' 'q' 'ab']\n",
      "------------------------------------------------------------------------\n",
      "X2\n",
      "['at' 'av' 'n' 'e' 'as' 'aq' 'r' 'ai' 'ak' 'm' 'a' 'k' 'ae' 's' 'f' 'd'\n",
      " 'ag' 'ay' 'ac' 'ap' 'g' 'i' 'aw' 'y' 'b' 'ao' 'al' 'h' 'x' 'au' 't' 'an'\n",
      " 'z' 'ah' 'p' 'am' 'j' 'q' 'af' 'l' 'aa' 'c' 'o' 'ar']\n",
      "------------------------------------------------------------------------\n",
      "X3\n",
      "['a' 'e' 'c' 'f' 'd' 'b' 'g']\n",
      "------------------------------------------------------------------------\n",
      "X4\n",
      "['d' 'b' 'c' 'a']\n",
      "------------------------------------------------------------------------\n",
      "X5\n",
      "['u' 'y' 'x' 'h' 'g' 'f' 'j' 'i' 'd' 'c' 'af' 'ag' 'ab' 'ac' 'ad' 'ae'\n",
      " 'ah' 'l' 'k' 'n' 'm' 'p' 'q' 's' 'r' 'v' 'w' 'o' 'aa']\n",
      "------------------------------------------------------------------------\n",
      "X6\n",
      "['j' 'l' 'd' 'h' 'i' 'a' 'g' 'c' 'k' 'e' 'f' 'b']\n",
      "------------------------------------------------------------------------\n",
      "X8\n",
      "['o' 'x' 'e' 'n' 's' 'a' 'h' 'p' 'm' 'k' 'd' 'i' 'v' 'j' 'b' 'q' 'w' 'g'\n",
      " 'y' 'l' 'f' 'u' 'r' 't' 'c']\n",
      "------------------------------------------------------------------------\n"
     ]
    }
   ],
   "source": [
    "for col in objest:\n",
    "    print(col)\n",
    "    print(train[col].unique())\n",
    "    print(\"------------------------------------------------------------------------\")"
   ]
  },
  {
   "cell_type": "code",
   "execution_count": 11,
   "id": "4b542937",
   "metadata": {},
   "outputs": [],
   "source": [
    "from sklearn.preprocessing import LabelEncoder\n",
    "from sklearn.preprocessing import StandardScaler\n",
    "from sklearn.decomposition import PCA\n",
    "pca=PCA()\n",
    "sc=StandardScaler()\n",
    "le=LabelEncoder()"
   ]
  },
  {
   "cell_type": "markdown",
   "id": "a515e587",
   "metadata": {},
   "source": [
    "# removing columns with zero variance."
   ]
  },
  {
   "cell_type": "code",
   "execution_count": 12,
   "id": "61b65d20",
   "metadata": {},
   "outputs": [],
   "source": [
    "train_re=train.drop(remove, axis =1)\n",
    "test_re=test.drop(remove, axis =1)"
   ]
  },
  {
   "cell_type": "code",
   "execution_count": 13,
   "id": "10c4833d",
   "metadata": {
    "scrolled": true
   },
   "outputs": [
    {
     "data": {
      "text/plain": [
       "(4209, 366)"
      ]
     },
     "execution_count": 13,
     "metadata": {},
     "output_type": "execute_result"
    }
   ],
   "source": [
    "train_re.shape"
   ]
  },
  {
   "cell_type": "markdown",
   "id": "7f2b85eb",
   "metadata": {},
   "source": [
    "# Apply label encoder."
   ]
  },
  {
   "cell_type": "code",
   "execution_count": 14,
   "id": "6ec68ec9",
   "metadata": {},
   "outputs": [],
   "source": [
    "for col in objest :\n",
    "    train_re[col]=le.fit_transform(train_re[col])\n",
    "for col in objest :\n",
    "    test_re[col]=le.fit_transform(test_re[col])"
   ]
  },
  {
   "cell_type": "markdown",
   "id": "0b15f02e",
   "metadata": {},
   "source": [
    "# Perform dimensionality reduction."
   ]
  },
  {
   "cell_type": "code",
   "execution_count": 15,
   "id": "87ef41a2",
   "metadata": {
    "scrolled": true
   },
   "outputs": [],
   "source": [
    "feature=train_re.drop(\"y\", axis=1)\n",
    "target=train_re[\"y\"]"
   ]
  },
  {
   "cell_type": "code",
   "execution_count": 16,
   "id": "1ffc7373",
   "metadata": {},
   "outputs": [
    {
     "data": {
      "text/plain": [
       "array([[-1.72565045,  0.16301209,  1.39348787, ..., -0.04081511,\n",
       "        -0.02180363, -0.03778296],\n",
       "       [-1.72318873,  0.16301209,  1.15902093, ..., -0.04081511,\n",
       "        -0.02180363, -0.03778296],\n",
       "       [-1.72277844, -0.71055977,  1.51072134, ..., -0.04081511,\n",
       "        -0.02180363, -0.03778296],\n",
       "       ...,\n",
       "       [ 1.72568262, -1.58413164,  1.39348787, ..., -0.04081511,\n",
       "        -0.02180363, -0.03778296],\n",
       "       [ 1.72691348, -1.51133398,  0.924554  , ..., -0.04081511,\n",
       "        -0.02180363, -0.03778296],\n",
       "       [ 1.72773405,  1.18217927,  0.924554  , ..., -0.04081511,\n",
       "        -0.02180363, -0.03778296]])"
      ]
     },
     "execution_count": 16,
     "metadata": {},
     "output_type": "execute_result"
    }
   ],
   "source": [
    "sc.fit_transform(feature)"
   ]
  },
  {
   "cell_type": "code",
   "execution_count": 17,
   "id": "57d19dc8",
   "metadata": {
    "scrolled": true
   },
   "outputs": [
    {
     "data": {
      "text/plain": [
       "array([[-1.72524016, -0.63776212,  1.39348787, ..., -0.04081511,\n",
       "        -0.02180363, -0.03778296],\n",
       "       [-1.72482987,  0.89098865, -0.95118151, ..., -0.04081511,\n",
       "        -0.02180363, -0.03778296],\n",
       "       [-1.72441959, -0.63776212,  1.39348787, ..., -0.04081511,\n",
       "        -0.02180363, -0.03778296],\n",
       "       ...,\n",
       "       [ 1.7260929 ,  1.25497692,  1.39348787, ..., -0.04081511,\n",
       "        -0.02180363, -0.03778296],\n",
       "       [ 1.72650319, -1.65692929,  1.39348787, ..., -0.04081511,\n",
       "        -0.02180363, -0.03778296],\n",
       "       [ 1.72732376,  0.89098865, -1.18564845, ..., -0.04081511,\n",
       "        -0.02180363, -0.03778296]])"
      ]
     },
     "execution_count": 17,
     "metadata": {},
     "output_type": "execute_result"
    }
   ],
   "source": [
    "sc.transform(test_re)"
   ]
  },
  {
   "cell_type": "code",
   "execution_count": 18,
   "id": "1d262907",
   "metadata": {},
   "outputs": [],
   "source": [
    "Pfeature=pca.fit_transform(feature)"
   ]
  },
  {
   "cell_type": "code",
   "execution_count": 19,
   "id": "4cfbd6c8",
   "metadata": {},
   "outputs": [],
   "source": [
    "var=pca.explained_variance_ratio_.cumsum()"
   ]
  },
  {
   "cell_type": "code",
   "execution_count": 20,
   "id": "6352bd84",
   "metadata": {
    "scrolled": true
   },
   "outputs": [
    {
     "data": {
      "text/plain": [
       "array([0.99991541, 0.99994973, 0.99996887, 0.99997981, 0.99998806,\n",
       "       0.99999465, 0.99999607, 0.99999674, 0.99999713, 0.99999739,\n",
       "       0.9999976 , 0.99999782, 0.999998  , 0.99999815, 0.99999828,\n",
       "       0.9999984 , 0.99999849, 0.99999857, 0.99999865, 0.99999872,\n",
       "       0.99999879, 0.99999885, 0.9999989 , 0.99999895, 0.999999  ,\n",
       "       0.99999904, 0.99999908, 0.99999912, 0.99999915, 0.99999919,\n",
       "       0.99999922, 0.99999925, 0.99999927, 0.9999993 , 0.99999933,\n",
       "       0.99999935, 0.99999937, 0.99999939, 0.99999941, 0.99999943,\n",
       "       0.99999945, 0.99999946, 0.99999948, 0.9999995 , 0.99999951,\n",
       "       0.99999953, 0.99999954, 0.99999955, 0.99999957, 0.99999958,\n",
       "       0.99999959, 0.9999996 , 0.99999962, 0.99999963, 0.99999964,\n",
       "       0.99999965, 0.99999966, 0.99999967, 0.99999968, 0.99999969,\n",
       "       0.99999969, 0.9999997 , 0.99999971, 0.99999972, 0.99999973,\n",
       "       0.99999973, 0.99999974, 0.99999975, 0.99999975, 0.99999976,\n",
       "       0.99999977, 0.99999977, 0.99999978, 0.99999978, 0.99999979,\n",
       "       0.99999979, 0.9999998 , 0.99999981, 0.99999981, 0.99999982,\n",
       "       0.99999982, 0.99999982, 0.99999983, 0.99999983, 0.99999984,\n",
       "       0.99999984, 0.99999985, 0.99999985, 0.99999985, 0.99999986,\n",
       "       0.99999986, 0.99999987, 0.99999987, 0.99999987, 0.99999988,\n",
       "       0.99999988, 0.99999988, 0.99999989, 0.99999989, 0.99999989,\n",
       "       0.9999999 , 0.9999999 , 0.9999999 , 0.9999999 , 0.99999991,\n",
       "       0.99999991, 0.99999991, 0.99999991, 0.99999992, 0.99999992,\n",
       "       0.99999992, 0.99999992, 0.99999992, 0.99999993, 0.99999993,\n",
       "       0.99999993, 0.99999993, 0.99999993, 0.99999994, 0.99999994,\n",
       "       0.99999994, 0.99999994, 0.99999994, 0.99999994, 0.99999995,\n",
       "       0.99999995, 0.99999995, 0.99999995, 0.99999995, 0.99999995,\n",
       "       0.99999995, 0.99999996, 0.99999996, 0.99999996, 0.99999996,\n",
       "       0.99999996, 0.99999996, 0.99999996, 0.99999996, 0.99999997,\n",
       "       0.99999997, 0.99999997, 0.99999997, 0.99999997, 0.99999997,\n",
       "       0.99999997, 0.99999997, 0.99999997, 0.99999997, 0.99999997,\n",
       "       0.99999998, 0.99999998, 0.99999998, 0.99999998, 0.99999998,\n",
       "       0.99999998, 0.99999998, 0.99999998, 0.99999998, 0.99999998,\n",
       "       0.99999998, 0.99999998, 0.99999998, 0.99999998, 0.99999998,\n",
       "       0.99999998, 0.99999999, 0.99999999, 0.99999999, 0.99999999,\n",
       "       0.99999999, 0.99999999, 0.99999999, 0.99999999, 0.99999999,\n",
       "       0.99999999, 0.99999999, 0.99999999, 0.99999999, 0.99999999,\n",
       "       0.99999999, 0.99999999, 0.99999999, 0.99999999, 0.99999999,\n",
       "       0.99999999, 0.99999999, 0.99999999, 0.99999999, 0.99999999,\n",
       "       0.99999999, 0.99999999, 0.99999999, 0.99999999, 0.99999999,\n",
       "       0.99999999, 1.        , 1.        , 1.        , 1.        ,\n",
       "       1.        , 1.        , 1.        , 1.        , 1.        ,\n",
       "       1.        , 1.        , 1.        , 1.        , 1.        ,\n",
       "       1.        , 1.        , 1.        , 1.        , 1.        ,\n",
       "       1.        , 1.        , 1.        , 1.        , 1.        ,\n",
       "       1.        , 1.        , 1.        , 1.        , 1.        ,\n",
       "       1.        , 1.        , 1.        , 1.        , 1.        ,\n",
       "       1.        , 1.        , 1.        , 1.        , 1.        ,\n",
       "       1.        , 1.        , 1.        , 1.        , 1.        ,\n",
       "       1.        , 1.        , 1.        , 1.        , 1.        ,\n",
       "       1.        , 1.        , 1.        , 1.        , 1.        ,\n",
       "       1.        , 1.        , 1.        , 1.        , 1.        ,\n",
       "       1.        , 1.        , 1.        , 1.        , 1.        ,\n",
       "       1.        , 1.        , 1.        , 1.        , 1.        ,\n",
       "       1.        , 1.        , 1.        , 1.        , 1.        ,\n",
       "       1.        , 1.        , 1.        , 1.        , 1.        ,\n",
       "       1.        , 1.        , 1.        , 1.        , 1.        ,\n",
       "       1.        , 1.        , 1.        , 1.        , 1.        ,\n",
       "       1.        , 1.        , 1.        , 1.        , 1.        ,\n",
       "       1.        , 1.        , 1.        , 1.        , 1.        ,\n",
       "       1.        , 1.        , 1.        , 1.        , 1.        ,\n",
       "       1.        , 1.        , 1.        , 1.        , 1.        ,\n",
       "       1.        , 1.        , 1.        , 1.        , 1.        ,\n",
       "       1.        , 1.        , 1.        , 1.        , 1.        ,\n",
       "       1.        , 1.        , 1.        , 1.        , 1.        ,\n",
       "       1.        , 1.        , 1.        , 1.        , 1.        ,\n",
       "       1.        , 1.        , 1.        , 1.        , 1.        ,\n",
       "       1.        , 1.        , 1.        , 1.        , 1.        ,\n",
       "       1.        , 1.        , 1.        , 1.        , 1.        ,\n",
       "       1.        , 1.        , 1.        , 1.        , 1.        ,\n",
       "       1.        , 1.        , 1.        , 1.        , 1.        ,\n",
       "       1.        , 1.        , 1.        , 1.        , 1.        ,\n",
       "       1.        , 1.        , 1.        , 1.        , 1.        ,\n",
       "       1.        , 1.        , 1.        , 1.        , 1.        ])"
      ]
     },
     "execution_count": 20,
     "metadata": {},
     "output_type": "execute_result"
    }
   ],
   "source": [
    "var"
   ]
  },
  {
   "cell_type": "code",
   "execution_count": 21,
   "id": "b3c37ab9",
   "metadata": {},
   "outputs": [],
   "source": [
    "pca1=PCA(n_components=1)"
   ]
  },
  {
   "cell_type": "code",
   "execution_count": 22,
   "id": "51c7d54b",
   "metadata": {},
   "outputs": [],
   "source": [
    "Ffeature=pca1.fit_transform(feature)\n",
    "Ftest=pca1.transform(test_re)"
   ]
  },
  {
   "cell_type": "code",
   "execution_count": 23,
   "id": "992062f5",
   "metadata": {},
   "outputs": [
    {
     "data": {
      "text/plain": [
       "array([0.99991541])"
      ]
     },
     "execution_count": 23,
     "metadata": {},
     "output_type": "execute_result"
    }
   ],
   "source": [
    "pca1.explained_variance_ratio_"
   ]
  },
  {
   "cell_type": "code",
   "execution_count": 24,
   "id": "2305e78c",
   "metadata": {},
   "outputs": [
    {
     "name": "stdout",
     "output_type": "stream",
     "text": [
      "(4209, 1)\n",
      "(4209, 1)\n",
      "(4209,)\n"
     ]
    }
   ],
   "source": [
    "print(Ffeature.shape)\n",
    "print(Ftest.shape)\n",
    "print(target.shape)"
   ]
  },
  {
   "cell_type": "markdown",
   "id": "e2c6b286",
   "metadata": {},
   "source": [
    "#### now our data is so prepared and let's move on "
   ]
  },
  {
   "cell_type": "markdown",
   "id": "55d9e835",
   "metadata": {},
   "source": [
    "# Predict your test_df values using XGBoost."
   ]
  },
  {
   "cell_type": "code",
   "execution_count": 25,
   "id": "db6a6191",
   "metadata": {},
   "outputs": [],
   "source": [
    "from xgboost import XGBRegressor\n",
    "model1=XGBRegressor(alpha=1)"
   ]
  },
  {
   "cell_type": "code",
   "execution_count": 26,
   "id": "b390d4cb",
   "metadata": {},
   "outputs": [],
   "source": [
    "from sklearn.model_selection import train_test_split\n",
    "x_train, x_test, y_train, y_test= train_test_split(Ffeature, target, test_size=0.25, random_state=10)"
   ]
  },
  {
   "cell_type": "code",
   "execution_count": 27,
   "id": "3d636225",
   "metadata": {},
   "outputs": [
    {
     "data": {
      "text/plain": [
       "XGBRegressor(alpha=1, base_score=0.5, booster='gbtree', colsample_bylevel=1,\n",
       "             colsample_bynode=1, colsample_bytree=1, enable_categorical=False,\n",
       "             gamma=0, gpu_id=-1, importance_type=None,\n",
       "             interaction_constraints='', learning_rate=0.300000012,\n",
       "             max_delta_step=0, max_depth=6, min_child_weight=1, missing=nan,\n",
       "             monotone_constraints='()', n_estimators=100, n_jobs=8,\n",
       "             num_parallel_tree=1, predictor='auto', random_state=0, reg_alpha=1,\n",
       "             reg_lambda=1, scale_pos_weight=1, subsample=1, tree_method='exact',\n",
       "             validate_parameters=1, verbosity=None)"
      ]
     },
     "execution_count": 27,
     "metadata": {},
     "output_type": "execute_result"
    }
   ],
   "source": [
    "model1.fit(x_train,y_train)"
   ]
  },
  {
   "cell_type": "code",
   "execution_count": 28,
   "id": "967b9aea",
   "metadata": {},
   "outputs": [
    {
     "name": "stdout",
     "output_type": "stream",
     "text": [
      "13.813281198530323 \n",
      "  10.908888142324015\n"
     ]
    }
   ],
   "source": [
    "y_pred1=model1.predict(x_test)\n",
    "\n",
    "from sklearn.metrics import mean_squared_error, mean_absolute_error\n",
    "from math import sqrt\n",
    "\n",
    "rmse1=sqrt(mean_squared_error(y_pred1,y_test))\n",
    "mae1=mean_absolute_error(y_pred1,y_test)\n",
    "\n",
    "print(rmse1,\"\\n \", mae1)"
   ]
  },
  {
   "cell_type": "code",
   "execution_count": 29,
   "id": "7daec0f1",
   "metadata": {},
   "outputs": [],
   "source": [
    "Prediction=model1.predict(Ftest)"
   ]
  },
  {
   "cell_type": "code",
   "execution_count": 30,
   "id": "35d28de4",
   "metadata": {},
   "outputs": [
    {
     "data": {
      "text/plain": [
       "array([127.34081 , 127.34081 , 127.34081 , ..., 106.515205,  93.52943 ,\n",
       "        93.52943 ], dtype=float32)"
      ]
     },
     "execution_count": 30,
     "metadata": {},
     "output_type": "execute_result"
    }
   ],
   "source": [
    "Prediction"
   ]
  },
  {
   "cell_type": "markdown",
   "id": "0df986a5",
   "metadata": {},
   "source": [
    "### let's try KFold and cross_val_score"
   ]
  },
  {
   "cell_type": "code",
   "execution_count": 31,
   "id": "73581444",
   "metadata": {
    "scrolled": true
   },
   "outputs": [],
   "source": [
    "from xgboost import XGBRegressor\n",
    "model2=XGBRegressor(alpha=1)\n",
    "\n",
    "from sklearn.model_selection import KFold, cross_val_score\n",
    "kfold=KFold(n_splits=10,  shuffle=True)"
   ]
  },
  {
   "cell_type": "code",
   "execution_count": 32,
   "id": "386e9ae1",
   "metadata": {},
   "outputs": [
    {
     "name": "stdout",
     "output_type": "stream",
     "text": [
      "[-0.22636611 -0.21300683 -0.14468613 -0.20108725 -0.16293003 -0.07077797\n",
      " -0.16306149 -0.19100773 -0.17244427 -0.22753402]\n"
     ]
    }
   ],
   "source": [
    "results =cross_val_score(model2,Ffeature,target, cv=kfold)\n",
    "print(results)"
   ]
  },
  {
   "cell_type": "code",
   "execution_count": 33,
   "id": "428c8655",
   "metadata": {},
   "outputs": [
    {
     "data": {
      "text/plain": [
       "-0.1772901821166305"
      ]
     },
     "execution_count": 33,
     "metadata": {},
     "output_type": "execute_result"
    }
   ],
   "source": [
    "ave_err=results.mean()\n",
    "ave_err"
   ]
  },
  {
   "cell_type": "code",
   "execution_count": 34,
   "id": "aa0a3d20",
   "metadata": {},
   "outputs": [
    {
     "data": {
      "text/plain": [
       "XGBRegressor(alpha=1, base_score=0.5, booster='gbtree', colsample_bylevel=1,\n",
       "             colsample_bynode=1, colsample_bytree=1, enable_categorical=False,\n",
       "             gamma=0, gpu_id=-1, importance_type=None,\n",
       "             interaction_constraints='', learning_rate=0.300000012,\n",
       "             max_delta_step=0, max_depth=6, min_child_weight=1, missing=nan,\n",
       "             monotone_constraints='()', n_estimators=100, n_jobs=8,\n",
       "             num_parallel_tree=1, predictor='auto', random_state=0, reg_alpha=1,\n",
       "             reg_lambda=1, scale_pos_weight=1, subsample=1, tree_method='exact',\n",
       "             validate_parameters=1, verbosity=None)"
      ]
     },
     "execution_count": 34,
     "metadata": {},
     "output_type": "execute_result"
    }
   ],
   "source": [
    "model2.fit(Ffeature,target)"
   ]
  },
  {
   "cell_type": "code",
   "execution_count": 35,
   "id": "b01d89cf",
   "metadata": {},
   "outputs": [],
   "source": [
    "prediction_model2=model2.predict(Ftest)"
   ]
  },
  {
   "cell_type": "code",
   "execution_count": 36,
   "id": "03e10ddb",
   "metadata": {},
   "outputs": [
    {
     "data": {
      "text/plain": [
       "array([127.58402 , 127.58402 , 127.58402 , ..., 106.4776  ,  93.466805,\n",
       "        93.466805], dtype=float32)"
      ]
     },
     "execution_count": 36,
     "metadata": {},
     "output_type": "execute_result"
    }
   ],
   "source": [
    "prediction_model2"
   ]
  },
  {
   "cell_type": "markdown",
   "id": "9cc51552",
   "metadata": {},
   "source": [
    "### let's see if we predicted y_test by our new model and measure the RMSE & MAE for the second model and compare with the first one"
   ]
  },
  {
   "cell_type": "code",
   "execution_count": 37,
   "id": "b9d409c1",
   "metadata": {},
   "outputs": [],
   "source": [
    "y_pred2=model2.predict(x_test)"
   ]
  },
  {
   "cell_type": "code",
   "execution_count": 38,
   "id": "8fc5232c",
   "metadata": {},
   "outputs": [
    {
     "name": "stdout",
     "output_type": "stream",
     "text": [
      "10.008262137840877 \n",
      "  8.028446965086268\n"
     ]
    }
   ],
   "source": [
    "rmse2=sqrt(mean_squared_error(y_pred2,y_test))\n",
    "mae2=mean_absolute_error(y_pred2,y_test)\n",
    "\n",
    "print(rmse2,\"\\n \", mae2)"
   ]
  },
  {
   "cell_type": "code",
   "execution_count": 39,
   "id": "c8a4afe4",
   "metadata": {},
   "outputs": [
    {
     "name": "stdout",
     "output_type": "stream",
     "text": [
      "The Ratio between the RMSE from the second model to the first one is :\n",
      "0.7245390862603822\n",
      "The Ratio between the MAE from the second model to the first one is :\n",
      "0.735954650954547\n"
     ]
    }
   ],
   "source": [
    "RMSE_Ratio_2_1=rmse2/rmse1\n",
    "MAE_Ratio_2_1=mae2/mae1\n",
    "print(\"The Ratio between the RMSE from the second model to the first one is :\")\n",
    "print(RMSE_Ratio_2_1)\n",
    "print(\"The Ratio between the MAE from the second model to the first one is :\")\n",
    "print(MAE_Ratio_2_1)"
   ]
  },
  {
   "cell_type": "markdown",
   "id": "1b663c83",
   "metadata": {},
   "source": [
    "### as you can see here the ratio of the error in model2 to model1 is smaller than 1 by more than 0.25 and this implies that model2 is better than model1 and this implies that using KFold and cross_val_score instead of using train_test_split in model selection leads to more accurate results.  "
   ]
  },
  {
   "cell_type": "code",
   "execution_count": null,
   "id": "e370cfe9",
   "metadata": {},
   "outputs": [],
   "source": []
  }
 ],
 "metadata": {
  "kernelspec": {
   "display_name": "Python 3",
   "language": "python",
   "name": "python3"
  },
  "language_info": {
   "codemirror_mode": {
    "name": "ipython",
    "version": 3
   },
   "file_extension": ".py",
   "mimetype": "text/x-python",
   "name": "python",
   "nbconvert_exporter": "python",
   "pygments_lexer": "ipython3",
   "version": "3.8.8"
  }
 },
 "nbformat": 4,
 "nbformat_minor": 5
}
