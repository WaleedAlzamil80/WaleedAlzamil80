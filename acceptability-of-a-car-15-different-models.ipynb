{
 "cells": [
  {
   "cell_type": "code",
   "execution_count": 1,
   "id": "0183b7d9",
   "metadata": {
    "execution": {
     "iopub.execute_input": "2022-03-12T18:57:44.640321Z",
     "iopub.status.busy": "2022-03-12T18:57:44.636847Z",
     "iopub.status.idle": "2022-03-12T18:57:46.346426Z",
     "shell.execute_reply": "2022-03-12T18:57:46.344846Z",
     "shell.execute_reply.started": "2022-03-12T18:41:14.140654Z"
    },
    "papermill": {
     "duration": 1.771012,
     "end_time": "2022-03-12T18:57:46.346636",
     "exception": false,
     "start_time": "2022-03-12T18:57:44.575624",
     "status": "completed"
    },
    "tags": []
   },
   "outputs": [],
   "source": [
    "import numpy as np\n",
    "import pandas as pd\n",
    "import matplotlib.pyplot as plt\n",
    "import seaborn as sns\n",
    "%matplotlib inline"
   ]
  },
  {
   "cell_type": "code",
   "execution_count": 2,
   "id": "7bdc9188",
   "metadata": {
    "execution": {
     "iopub.execute_input": "2022-03-12T18:57:46.446727Z",
     "iopub.status.busy": "2022-03-12T18:57:46.445424Z",
     "iopub.status.idle": "2022-03-12T18:58:00.776551Z",
     "shell.execute_reply": "2022-03-12T18:58:00.775755Z",
     "shell.execute_reply.started": "2022-03-12T18:41:38.210574Z"
    },
    "papermill": {
     "duration": 14.384875,
     "end_time": "2022-03-12T18:58:00.776720",
     "exception": false,
     "start_time": "2022-03-12T18:57:46.391845",
     "status": "completed"
    },
    "tags": []
   },
   "outputs": [
    {
     "name": "stdout",
     "output_type": "stream",
     "text": [
      "Collecting openpyxl\r\n",
      "  Downloading openpyxl-3.0.9-py2.py3-none-any.whl (242 kB)\r\n",
      "     |████████████████████████████████| 242 kB 3.1 MB/s            \r\n",
      "\u001b[?25hCollecting et-xmlfile\r\n",
      "  Downloading et_xmlfile-1.1.0-py3-none-any.whl (4.7 kB)\r\n",
      "Installing collected packages: et-xmlfile, openpyxl\r\n",
      "Successfully installed et-xmlfile-1.1.0 openpyxl-3.0.9\r\n",
      "\u001b[33mWARNING: Running pip as the 'root' user can result in broken permissions and conflicting behaviour with the system package manager. It is recommended to use a virtual environment instead: https://pip.pypa.io/warnings/venv\u001b[0m\r\n"
     ]
    }
   ],
   "source": [
    "#import openpyxl\n",
    "!pip install openpyxl\n",
    "data=pd.read_excel(\"../input/acceptability-of-a-car/car_data1.xlsx\")"
   ]
  },
  {
   "cell_type": "code",
   "execution_count": 3,
   "id": "0c245b2b",
   "metadata": {
    "execution": {
     "iopub.execute_input": "2022-03-12T18:58:00.879235Z",
     "iopub.status.busy": "2022-03-12T18:58:00.876237Z",
     "iopub.status.idle": "2022-03-12T18:58:00.898543Z",
     "shell.execute_reply": "2022-03-12T18:58:00.899080Z",
     "shell.execute_reply.started": "2022-03-12T18:42:08.952143Z"
    },
    "papermill": {
     "duration": 0.080434,
     "end_time": "2022-03-12T18:58:00.899283",
     "exception": false,
     "start_time": "2022-03-12T18:58:00.818849",
     "status": "completed"
    },
    "tags": []
   },
   "outputs": [
    {
     "data": {
      "text/html": [
       "<div>\n",
       "<style scoped>\n",
       "    .dataframe tbody tr th:only-of-type {\n",
       "        vertical-align: middle;\n",
       "    }\n",
       "\n",
       "    .dataframe tbody tr th {\n",
       "        vertical-align: top;\n",
       "    }\n",
       "\n",
       "    .dataframe thead th {\n",
       "        text-align: right;\n",
       "    }\n",
       "</style>\n",
       "<table border=\"1\" class=\"dataframe\">\n",
       "  <thead>\n",
       "    <tr style=\"text-align: right;\">\n",
       "      <th></th>\n",
       "      <th>Unnamed: 0</th>\n",
       "      <th>buying</th>\n",
       "      <th>maint</th>\n",
       "      <th>doors</th>\n",
       "      <th>persons</th>\n",
       "      <th>lug_boot</th>\n",
       "      <th>safety</th>\n",
       "      <th>class</th>\n",
       "    </tr>\n",
       "  </thead>\n",
       "  <tbody>\n",
       "    <tr>\n",
       "      <th>0</th>\n",
       "      <td>0</td>\n",
       "      <td>vhigh</td>\n",
       "      <td>vhigh</td>\n",
       "      <td>2</td>\n",
       "      <td>2</td>\n",
       "      <td>small</td>\n",
       "      <td>low</td>\n",
       "      <td>unacc</td>\n",
       "    </tr>\n",
       "    <tr>\n",
       "      <th>1</th>\n",
       "      <td>1</td>\n",
       "      <td>vhigh</td>\n",
       "      <td>vhigh</td>\n",
       "      <td>2</td>\n",
       "      <td>2</td>\n",
       "      <td>small</td>\n",
       "      <td>med</td>\n",
       "      <td>unacc</td>\n",
       "    </tr>\n",
       "    <tr>\n",
       "      <th>2</th>\n",
       "      <td>2</td>\n",
       "      <td>vhigh</td>\n",
       "      <td>vhigh</td>\n",
       "      <td>2</td>\n",
       "      <td>2</td>\n",
       "      <td>small</td>\n",
       "      <td>high</td>\n",
       "      <td>unacc</td>\n",
       "    </tr>\n",
       "    <tr>\n",
       "      <th>3</th>\n",
       "      <td>3</td>\n",
       "      <td>vhigh</td>\n",
       "      <td>vhigh</td>\n",
       "      <td>2</td>\n",
       "      <td>2</td>\n",
       "      <td>med</td>\n",
       "      <td>low</td>\n",
       "      <td>unacc</td>\n",
       "    </tr>\n",
       "    <tr>\n",
       "      <th>4</th>\n",
       "      <td>4</td>\n",
       "      <td>vhigh</td>\n",
       "      <td>vhigh</td>\n",
       "      <td>2</td>\n",
       "      <td>2</td>\n",
       "      <td>med</td>\n",
       "      <td>med</td>\n",
       "      <td>unacc</td>\n",
       "    </tr>\n",
       "  </tbody>\n",
       "</table>\n",
       "</div>"
      ],
      "text/plain": [
       "   Unnamed: 0 buying  maint doors persons lug_boot safety  class\n",
       "0           0  vhigh  vhigh     2       2    small    low  unacc\n",
       "1           1  vhigh  vhigh     2       2    small    med  unacc\n",
       "2           2  vhigh  vhigh     2       2    small   high  unacc\n",
       "3           3  vhigh  vhigh     2       2      med    low  unacc\n",
       "4           4  vhigh  vhigh     2       2      med    med  unacc"
      ]
     },
     "execution_count": 3,
     "metadata": {},
     "output_type": "execute_result"
    }
   ],
   "source": [
    "data.head()"
   ]
  },
  {
   "cell_type": "code",
   "execution_count": 4,
   "id": "7a188a81",
   "metadata": {
    "execution": {
     "iopub.execute_input": "2022-03-12T18:58:01.018333Z",
     "iopub.status.busy": "2022-03-12T18:58:00.987991Z",
     "iopub.status.idle": "2022-03-12T18:58:01.022128Z",
     "shell.execute_reply": "2022-03-12T18:58:01.021286Z",
     "shell.execute_reply.started": "2022-03-12T18:42:13.466164Z"
    },
    "papermill": {
     "duration": 0.077956,
     "end_time": "2022-03-12T18:58:01.022378",
     "exception": false,
     "start_time": "2022-03-12T18:58:00.944422",
     "status": "completed"
    },
    "tags": []
   },
   "outputs": [
    {
     "name": "stdout",
     "output_type": "stream",
     "text": [
      "<class 'pandas.core.frame.DataFrame'>\n",
      "RangeIndex: 1728 entries, 0 to 1727\n",
      "Data columns (total 8 columns):\n",
      " #   Column      Non-Null Count  Dtype \n",
      "---  ------      --------------  ----- \n",
      " 0   Unnamed: 0  1728 non-null   int64 \n",
      " 1   buying      1728 non-null   object\n",
      " 2   maint       1728 non-null   object\n",
      " 3   doors       1728 non-null   object\n",
      " 4   persons     1728 non-null   object\n",
      " 5   lug_boot    1728 non-null   object\n",
      " 6   safety      1728 non-null   object\n",
      " 7   class       1728 non-null   object\n",
      "dtypes: int64(1), object(7)\n",
      "memory usage: 108.1+ KB\n"
     ]
    }
   ],
   "source": [
    "data.info()"
   ]
  },
  {
   "cell_type": "code",
   "execution_count": 5,
   "id": "2d0f0d8b",
   "metadata": {
    "execution": {
     "iopub.execute_input": "2022-03-12T18:58:01.123387Z",
     "iopub.status.busy": "2022-03-12T18:58:01.122518Z",
     "iopub.status.idle": "2022-03-12T18:58:01.126184Z",
     "shell.execute_reply": "2022-03-12T18:58:01.125114Z",
     "shell.execute_reply.started": "2022-03-12T18:42:16.443151Z"
    },
    "papermill": {
     "duration": 0.057663,
     "end_time": "2022-03-12T18:58:01.126401",
     "exception": false,
     "start_time": "2022-03-12T18:58:01.068738",
     "status": "completed"
    },
    "tags": []
   },
   "outputs": [],
   "source": [
    "data.drop(\"Unnamed: 0\", axis=1, inplace=True)"
   ]
  },
  {
   "cell_type": "code",
   "execution_count": 6,
   "id": "014180e5",
   "metadata": {
    "execution": {
     "iopub.execute_input": "2022-03-12T18:58:01.232768Z",
     "iopub.status.busy": "2022-03-12T18:58:01.231254Z",
     "iopub.status.idle": "2022-03-12T18:58:01.489372Z",
     "shell.execute_reply": "2022-03-12T18:58:01.490039Z",
     "shell.execute_reply.started": "2022-03-12T18:42:20.042436Z"
    },
    "papermill": {
     "duration": 0.314993,
     "end_time": "2022-03-12T18:58:01.490325",
     "exception": false,
     "start_time": "2022-03-12T18:58:01.175332",
     "status": "completed"
    },
    "tags": []
   },
   "outputs": [],
   "source": [
    "from sklearn.preprocessing import LabelEncoder\n",
    "\n",
    "le1=LabelEncoder()\n",
    "le2=LabelEncoder()\n",
    "le3=LabelEncoder()\n",
    "le4=LabelEncoder()\n",
    "le5=LabelEncoder()\n",
    "le6=LabelEncoder()\n",
    "le7=LabelEncoder()\n",
    "\n",
    "data[\"buying\"]=le1.fit_transform(data[\"buying\"])\n",
    "data[\"maint\"]=le2.fit_transform(data[\"maint\"])\n",
    "data[\"doors\"]=le3.fit_transform(data[\"doors\"])\n",
    "data[\"persons\"]=le4.fit_transform(data[\"persons\"])\n",
    "data[\"lug_boot\"]=le5.fit_transform(data[\"lug_boot\"])\n",
    "data[\"safety\"]=le6.fit_transform(data[\"safety\"])\n",
    "data[\"class\"]=le7.fit_transform(data[\"class\"])"
   ]
  },
  {
   "cell_type": "code",
   "execution_count": 7,
   "id": "7ed23778",
   "metadata": {
    "execution": {
     "iopub.execute_input": "2022-03-12T18:58:01.581980Z",
     "iopub.status.busy": "2022-03-12T18:58:01.580773Z",
     "iopub.status.idle": "2022-03-12T18:58:01.593865Z",
     "shell.execute_reply": "2022-03-12T18:58:01.592944Z",
     "shell.execute_reply.started": "2022-03-12T18:42:25.232869Z"
    },
    "papermill": {
     "duration": 0.062012,
     "end_time": "2022-03-12T18:58:01.594050",
     "exception": false,
     "start_time": "2022-03-12T18:58:01.532038",
     "status": "completed"
    },
    "tags": []
   },
   "outputs": [
    {
     "data": {
      "text/html": [
       "<div>\n",
       "<style scoped>\n",
       "    .dataframe tbody tr th:only-of-type {\n",
       "        vertical-align: middle;\n",
       "    }\n",
       "\n",
       "    .dataframe tbody tr th {\n",
       "        vertical-align: top;\n",
       "    }\n",
       "\n",
       "    .dataframe thead th {\n",
       "        text-align: right;\n",
       "    }\n",
       "</style>\n",
       "<table border=\"1\" class=\"dataframe\">\n",
       "  <thead>\n",
       "    <tr style=\"text-align: right;\">\n",
       "      <th></th>\n",
       "      <th>buying</th>\n",
       "      <th>maint</th>\n",
       "      <th>doors</th>\n",
       "      <th>persons</th>\n",
       "      <th>lug_boot</th>\n",
       "      <th>safety</th>\n",
       "      <th>class</th>\n",
       "    </tr>\n",
       "  </thead>\n",
       "  <tbody>\n",
       "    <tr>\n",
       "      <th>0</th>\n",
       "      <td>3</td>\n",
       "      <td>3</td>\n",
       "      <td>0</td>\n",
       "      <td>0</td>\n",
       "      <td>2</td>\n",
       "      <td>1</td>\n",
       "      <td>2</td>\n",
       "    </tr>\n",
       "    <tr>\n",
       "      <th>1</th>\n",
       "      <td>3</td>\n",
       "      <td>3</td>\n",
       "      <td>0</td>\n",
       "      <td>0</td>\n",
       "      <td>2</td>\n",
       "      <td>2</td>\n",
       "      <td>2</td>\n",
       "    </tr>\n",
       "    <tr>\n",
       "      <th>2</th>\n",
       "      <td>3</td>\n",
       "      <td>3</td>\n",
       "      <td>0</td>\n",
       "      <td>0</td>\n",
       "      <td>2</td>\n",
       "      <td>0</td>\n",
       "      <td>2</td>\n",
       "    </tr>\n",
       "    <tr>\n",
       "      <th>3</th>\n",
       "      <td>3</td>\n",
       "      <td>3</td>\n",
       "      <td>0</td>\n",
       "      <td>0</td>\n",
       "      <td>1</td>\n",
       "      <td>1</td>\n",
       "      <td>2</td>\n",
       "    </tr>\n",
       "    <tr>\n",
       "      <th>4</th>\n",
       "      <td>3</td>\n",
       "      <td>3</td>\n",
       "      <td>0</td>\n",
       "      <td>0</td>\n",
       "      <td>1</td>\n",
       "      <td>2</td>\n",
       "      <td>2</td>\n",
       "    </tr>\n",
       "  </tbody>\n",
       "</table>\n",
       "</div>"
      ],
      "text/plain": [
       "   buying  maint  doors  persons  lug_boot  safety  class\n",
       "0       3      3      0        0         2       1      2\n",
       "1       3      3      0        0         2       2      2\n",
       "2       3      3      0        0         2       0      2\n",
       "3       3      3      0        0         1       1      2\n",
       "4       3      3      0        0         1       2      2"
      ]
     },
     "execution_count": 7,
     "metadata": {},
     "output_type": "execute_result"
    }
   ],
   "source": [
    "data.head()"
   ]
  },
  {
   "cell_type": "code",
   "execution_count": 8,
   "id": "db1a699d",
   "metadata": {
    "execution": {
     "iopub.execute_input": "2022-03-12T18:58:01.697057Z",
     "iopub.status.busy": "2022-03-12T18:58:01.687667Z",
     "iopub.status.idle": "2022-03-12T18:58:01.700957Z",
     "shell.execute_reply": "2022-03-12T18:58:01.700022Z",
     "shell.execute_reply.started": "2022-03-12T18:42:28.309929Z"
    },
    "papermill": {
     "duration": 0.064741,
     "end_time": "2022-03-12T18:58:01.701136",
     "exception": false,
     "start_time": "2022-03-12T18:58:01.636395",
     "status": "completed"
    },
    "tags": []
   },
   "outputs": [
    {
     "name": "stdout",
     "output_type": "stream",
     "text": [
      "<class 'pandas.core.frame.DataFrame'>\n",
      "RangeIndex: 1728 entries, 0 to 1727\n",
      "Data columns (total 7 columns):\n",
      " #   Column    Non-Null Count  Dtype\n",
      "---  ------    --------------  -----\n",
      " 0   buying    1728 non-null   int64\n",
      " 1   maint     1728 non-null   int64\n",
      " 2   doors     1728 non-null   int64\n",
      " 3   persons   1728 non-null   int64\n",
      " 4   lug_boot  1728 non-null   int64\n",
      " 5   safety    1728 non-null   int64\n",
      " 6   class     1728 non-null   int64\n",
      "dtypes: int64(7)\n",
      "memory usage: 94.6 KB\n"
     ]
    }
   ],
   "source": [
    "data.info()"
   ]
  },
  {
   "cell_type": "code",
   "execution_count": 9,
   "id": "66a9bd70",
   "metadata": {
    "execution": {
     "iopub.execute_input": "2022-03-12T18:58:01.802680Z",
     "iopub.status.busy": "2022-03-12T18:58:01.801100Z",
     "iopub.status.idle": "2022-03-12T18:58:01.808033Z",
     "shell.execute_reply": "2022-03-12T18:58:01.808660Z",
     "shell.execute_reply.started": "2022-03-12T18:42:31.659457Z"
    },
    "papermill": {
     "duration": 0.063737,
     "end_time": "2022-03-12T18:58:01.808872",
     "exception": false,
     "start_time": "2022-03-12T18:58:01.745135",
     "status": "completed"
    },
    "tags": []
   },
   "outputs": [],
   "source": [
    "features=data.drop(\"class\", axis=1)\n",
    "target=data[\"class\"]"
   ]
  },
  {
   "cell_type": "code",
   "execution_count": 10,
   "id": "872e44a2",
   "metadata": {
    "execution": {
     "iopub.execute_input": "2022-03-12T18:58:01.897853Z",
     "iopub.status.busy": "2022-03-12T18:58:01.896992Z",
     "iopub.status.idle": "2022-03-12T18:58:01.980328Z",
     "shell.execute_reply": "2022-03-12T18:58:01.981036Z",
     "shell.execute_reply.started": "2022-03-12T18:42:34.937912Z"
    },
    "papermill": {
     "duration": 0.129424,
     "end_time": "2022-03-12T18:58:01.981278",
     "exception": false,
     "start_time": "2022-03-12T18:58:01.851854",
     "status": "completed"
    },
    "tags": []
   },
   "outputs": [],
   "source": [
    "from sklearn.model_selection import train_test_split\n",
    "\n",
    "x_train,x_test,y_train,y_test=train_test_split(features,target,train_size=0.75,random_state=100)"
   ]
  },
  {
   "cell_type": "code",
   "execution_count": 11,
   "id": "5dd3fca6",
   "metadata": {
    "execution": {
     "iopub.execute_input": "2022-03-12T18:58:02.074150Z",
     "iopub.status.busy": "2022-03-12T18:58:02.073390Z",
     "iopub.status.idle": "2022-03-12T18:58:02.079665Z",
     "shell.execute_reply": "2022-03-12T18:58:02.080597Z",
     "shell.execute_reply.started": "2022-03-12T18:42:37.342492Z"
    },
    "papermill": {
     "duration": 0.055466,
     "end_time": "2022-03-12T18:58:02.080896",
     "exception": false,
     "start_time": "2022-03-12T18:58:02.025430",
     "status": "completed"
    },
    "tags": []
   },
   "outputs": [
    {
     "name": "stdout",
     "output_type": "stream",
     "text": [
      "(1296, 6)\n",
      "(432, 6)\n",
      "(1296,)\n",
      "(432,)\n"
     ]
    }
   ],
   "source": [
    "print(x_train.shape)\n",
    "print(x_test.shape)\n",
    "print(y_train.shape)\n",
    "print(y_test.shape)"
   ]
  },
  {
   "cell_type": "code",
   "execution_count": 12,
   "id": "84a8e5fb",
   "metadata": {
    "execution": {
     "iopub.execute_input": "2022-03-12T18:58:02.168624Z",
     "iopub.status.busy": "2022-03-12T18:58:02.167509Z",
     "iopub.status.idle": "2022-03-12T18:58:12.286319Z",
     "shell.execute_reply": "2022-03-12T18:58:12.285622Z",
     "shell.execute_reply.started": "2022-03-12T18:42:39.887545Z"
    },
    "papermill": {
     "duration": 10.164548,
     "end_time": "2022-03-12T18:58:12.286483",
     "exception": false,
     "start_time": "2022-03-12T18:58:02.121935",
     "status": "completed"
    },
    "tags": []
   },
   "outputs": [
    {
     "data": {
      "image/png": "[encoded data removed]",
      "text/plain": [
       "<Figure size 1260x1260 with 56 Axes>"
      ]
     },
     "metadata": {
      "needs_background": "light"
     },
     "output_type": "display_data"
    }
   ],
   "source": [
    "sns.pairplot(data)\n",
    "plt.show()"
   ]
  },
  {
   "cell_type": "code",
   "execution_count": 13,
   "id": "51946e56",
   "metadata": {
    "execution": {
     "iopub.execute_input": "2022-03-12T18:58:12.379507Z",
     "iopub.status.busy": "2022-03-12T18:58:12.378735Z",
     "iopub.status.idle": "2022-03-12T18:58:13.051227Z",
     "shell.execute_reply": "2022-03-12T18:58:13.051803Z",
     "shell.execute_reply.started": "2022-03-12T18:43:01.384137Z"
    },
    "papermill": {
     "duration": 0.723165,
     "end_time": "2022-03-12T18:58:13.051991",
     "exception": false,
     "start_time": "2022-03-12T18:58:12.328826",
     "status": "completed"
    },
    "tags": []
   },
   "outputs": [
    {
     "data": {
      "text/plain": [
       "Text(0.5, 1.0, 'Correlation')"
      ]
     },
     "execution_count": 13,
     "metadata": {},
     "output_type": "execute_result"
    },
    {
     "data": {
      "image/png": "[encoded data removed]",
      "text/plain": [
       "<Figure size 1080x1080 with 2 Axes>"
      ]
     },
     "metadata": {},
     "output_type": "display_data"
    }
   ],
   "source": [
    "sns.set(font_scale=1.15)\n",
    "plt.figure(figsize=(15, 15))\n",
    "sns.heatmap(data.corr(),  vmax=0.9, linewidths=0.02,\n",
    "           square=True,\n",
    "            annot=True,\n",
    "            cmap='YlGnBu',\n",
    "            linecolor=\"black\")\n",
    "plt.title('Correlation')"
   ]
  },
  {
   "cell_type": "code",
   "execution_count": 14,
   "id": "94e5cfcb",
   "metadata": {
    "execution": {
     "iopub.execute_input": "2022-03-12T18:58:13.152177Z",
     "iopub.status.busy": "2022-03-12T18:58:13.151168Z",
     "iopub.status.idle": "2022-03-12T18:58:13.357672Z",
     "shell.execute_reply": "2022-03-12T18:58:13.358142Z",
     "shell.execute_reply.started": "2022-03-12T18:43:24.038624Z"
    },
    "papermill": {
     "duration": 0.26074,
     "end_time": "2022-03-12T18:58:13.358347",
     "exception": false,
     "start_time": "2022-03-12T18:58:13.097607",
     "status": "completed"
    },
    "tags": []
   },
   "outputs": [
    {
     "data": {
      "text/plain": [
       "0.9791666666666666"
      ]
     },
     "execution_count": 14,
     "metadata": {},
     "output_type": "execute_result"
    }
   ],
   "source": [
    "from sklearn.tree import DecisionTreeClassifier\n",
    "DT=DecisionTreeClassifier()\n",
    "\n",
    "DT.fit(x_train,y_train)\n",
    "y_predDT=DT.predict(x_test)\n",
    "\n",
    "from sklearn.metrics import accuracy_score\n",
    "acc_DT=accuracy_score(y_predDT,y_test)\n",
    "acc_DT "
   ]
  },
  {
   "cell_type": "code",
   "execution_count": 15,
   "id": "5a3c26d9",
   "metadata": {
    "execution": {
     "iopub.execute_input": "2022-03-12T18:58:13.462120Z",
     "iopub.status.busy": "2022-03-12T18:58:13.461390Z",
     "iopub.status.idle": "2022-03-12T18:58:13.635158Z",
     "shell.execute_reply": "2022-03-12T18:58:13.634610Z",
     "shell.execute_reply.started": "2022-03-12T18:43:26.512817Z"
    },
    "papermill": {
     "duration": 0.228686,
     "end_time": "2022-03-12T18:58:13.635330",
     "exception": false,
     "start_time": "2022-03-12T18:58:13.406644",
     "status": "completed"
    },
    "tags": []
   },
   "outputs": [
    {
     "name": "stdout",
     "output_type": "stream",
     "text": [
      "{'max_depth': 2, 'min_samples_leaf': 7}\n"
     ]
    },
    {
     "data": {
      "text/plain": [
       "0.7690972222222223"
      ]
     },
     "execution_count": 15,
     "metadata": {},
     "output_type": "execute_result"
    }
   ],
   "source": [
    "from sklearn.tree import DecisionTreeClassifier\n",
    "DT=DecisionTreeClassifier()\n",
    "\n",
    "from sklearn.model_selection import GridSearchCV\n",
    "param_grid = {\n",
    "    'max_depth':[1,2,3,None],\n",
    "    'min_samples_leaf': [7,8,9,10]\n",
    "}\n",
    "gs = GridSearchCV(DT, param_grid = param_grid, cv=2, verbose=0)\n",
    "gs.fit(features,target)\n",
    "\n",
    "print(gs.best_params_)\n",
    "acc_DTG=gs.best_score_\n",
    "acc_DTG"
   ]
  },
  {
   "cell_type": "code",
   "execution_count": 16,
   "id": "1ea1afb6",
   "metadata": {
    "execution": {
     "iopub.execute_input": "2022-03-12T18:58:13.734053Z",
     "iopub.status.busy": "2022-03-12T18:58:13.733318Z",
     "iopub.status.idle": "2022-03-12T18:58:13.738606Z",
     "shell.execute_reply": "2022-03-12T18:58:13.739246Z",
     "shell.execute_reply.started": "2022-03-12T18:43:34.636224Z"
    },
    "papermill": {
     "duration": 0.05898,
     "end_time": "2022-03-12T18:58:13.739445",
     "exception": false,
     "start_time": "2022-03-12T18:58:13.680465",
     "status": "completed"
    },
    "tags": []
   },
   "outputs": [
    {
     "data": {
      "text/plain": [
       "41.569219381653056"
      ]
     },
     "execution_count": 16,
     "metadata": {},
     "output_type": "execute_result"
    }
   ],
   "source": [
    "from math import sqrt\n",
    "sqrt(data.shape[0])"
   ]
  },
  {
   "cell_type": "code",
   "execution_count": 17,
   "id": "819650d1",
   "metadata": {
    "execution": {
     "iopub.execute_input": "2022-03-12T18:58:13.841102Z",
     "iopub.status.busy": "2022-03-12T18:58:13.840251Z",
     "iopub.status.idle": "2022-03-12T18:58:13.846335Z",
     "shell.execute_reply": "2022-03-12T18:58:13.847253Z",
     "shell.execute_reply.started": "2022-03-12T18:43:36.318054Z"
    },
    "papermill": {
     "duration": 0.061613,
     "end_time": "2022-03-12T18:58:13.847484",
     "exception": false,
     "start_time": "2022-03-12T18:58:13.785871",
     "status": "completed"
    },
    "tags": []
   },
   "outputs": [
    {
     "data": {
      "text/plain": [
       "36.0"
      ]
     },
     "execution_count": 17,
     "metadata": {},
     "output_type": "execute_result"
    }
   ],
   "source": [
    "sqrt(x_train.shape[0])"
   ]
  },
  {
   "cell_type": "code",
   "execution_count": 18,
   "id": "eb7d04da",
   "metadata": {
    "execution": {
     "iopub.execute_input": "2022-03-12T18:58:13.948426Z",
     "iopub.status.busy": "2022-03-12T18:58:13.947627Z",
     "iopub.status.idle": "2022-03-12T18:58:13.985063Z",
     "shell.execute_reply": "2022-03-12T18:58:13.985764Z",
     "shell.execute_reply.started": "2022-03-12T18:43:39.502685Z"
    },
    "papermill": {
     "duration": 0.089347,
     "end_time": "2022-03-12T18:58:13.985973",
     "exception": false,
     "start_time": "2022-03-12T18:58:13.896626",
     "status": "completed"
    },
    "tags": []
   },
   "outputs": [
    {
     "data": {
      "text/plain": [
       "0.7870370370370371"
      ]
     },
     "execution_count": 18,
     "metadata": {},
     "output_type": "execute_result"
    }
   ],
   "source": [
    "from sklearn.neighbors import KNeighborsClassifier\n",
    "\n",
    "knn = KNeighborsClassifier(n_neighbors=35) \n",
    "knn.fit(x_train,y_train)\n",
    "y_predknn=knn.predict(x_test)\n",
    "\n",
    "from sklearn.metrics import accuracy_score\n",
    "acc_knn=accuracy_score(y_predknn,y_test)\n",
    "acc_knn"
   ]
  },
  {
   "cell_type": "code",
   "execution_count": 19,
   "id": "585d1028",
   "metadata": {
    "execution": {
     "iopub.execute_input": "2022-03-12T18:58:14.087247Z",
     "iopub.status.busy": "2022-03-12T18:58:14.086440Z",
     "iopub.status.idle": "2022-03-12T18:58:14.598094Z",
     "shell.execute_reply": "2022-03-12T18:58:14.597422Z",
     "shell.execute_reply.started": "2022-03-12T18:43:43.041592Z"
    },
    "papermill": {
     "duration": 0.565429,
     "end_time": "2022-03-12T18:58:14.598297",
     "exception": false,
     "start_time": "2022-03-12T18:58:14.032868",
     "status": "completed"
    },
    "tags": []
   },
   "outputs": [
    {
     "name": "stdout",
     "output_type": "stream",
     "text": [
      "{'n_neighbors': 39}\n"
     ]
    },
    {
     "data": {
      "text/plain": [
       "0.6892361111111112"
      ]
     },
     "execution_count": 19,
     "metadata": {},
     "output_type": "execute_result"
    }
   ],
   "source": [
    "from sklearn.neighbors import KNeighborsClassifier\n",
    "KNN=KNeighborsClassifier()\n",
    "\n",
    "from sklearn.model_selection import GridSearchCV\n",
    "param_grid = {\n",
    "    'n_neighbors':[35,37,39,41,43],\n",
    "}\n",
    "gs2 = GridSearchCV(KNN, param_grid = param_grid, cv=2, verbose=0)\n",
    "gs2.fit(features,target)\n",
    "\n",
    "print(gs2.best_params_)\n",
    "acc_KNNG=gs2.best_score_\n",
    "acc_KNNG"
   ]
  },
  {
   "cell_type": "code",
   "execution_count": 20,
   "id": "21fa79c8",
   "metadata": {
    "execution": {
     "iopub.execute_input": "2022-03-12T18:58:14.710623Z",
     "iopub.status.busy": "2022-03-12T18:58:14.709873Z",
     "iopub.status.idle": "2022-03-12T18:58:14.796573Z",
     "shell.execute_reply": "2022-03-12T18:58:14.797189Z",
     "shell.execute_reply.started": "2022-03-12T18:43:52.570909Z"
    },
    "papermill": {
     "duration": 0.145722,
     "end_time": "2022-03-12T18:58:14.797408",
     "exception": false,
     "start_time": "2022-03-12T18:58:14.651686",
     "status": "completed"
    },
    "tags": []
   },
   "outputs": [
    {
     "data": {
      "text/plain": [
       "0.9236111111111112"
      ]
     },
     "execution_count": 20,
     "metadata": {},
     "output_type": "execute_result"
    }
   ],
   "source": [
    "from sklearn.svm import SVC\n",
    "sv=SVC()\n",
    "\n",
    "sv.fit(x_train,y_train)\n",
    "y_predV=sv.predict(x_test)\n",
    "\n",
    "from sklearn.metrics import accuracy_score\n",
    "acc_sv=accuracy_score(y_predV,y_test)\n",
    "acc_sv"
   ]
  },
  {
   "cell_type": "code",
   "execution_count": 21,
   "id": "6c8bd5d3",
   "metadata": {
    "execution": {
     "iopub.execute_input": "2022-03-12T18:58:14.900376Z",
     "iopub.status.busy": "2022-03-12T18:58:14.899477Z",
     "iopub.status.idle": "2022-03-12T18:58:14.916468Z",
     "shell.execute_reply": "2022-03-12T18:58:14.917005Z",
     "shell.execute_reply.started": "2022-03-12T18:43:59.783953Z"
    },
    "papermill": {
     "duration": 0.071198,
     "end_time": "2022-03-12T18:58:14.917278",
     "exception": false,
     "start_time": "2022-03-12T18:58:14.846080",
     "status": "completed"
    },
    "tags": []
   },
   "outputs": [
    {
     "data": {
      "text/plain": [
       "0.8726851851851852"
      ]
     },
     "execution_count": 21,
     "metadata": {},
     "output_type": "execute_result"
    }
   ],
   "source": [
    "from sklearn.naive_bayes import CategoricalNB\n",
    "CNB=CategoricalNB()\n",
    "\n",
    "CNB.fit(x_train,y_train)\n",
    "y_predC=CNB.predict(x_test)\n",
    "\n",
    "from sklearn.metrics import accuracy_score\n",
    "acc_CNB=accuracy_score(y_predC,y_test)\n",
    "acc_CNB"
   ]
  },
  {
   "cell_type": "code",
   "execution_count": 22,
   "id": "08a5350f",
   "metadata": {
    "execution": {
     "iopub.execute_input": "2022-03-12T18:58:15.028600Z",
     "iopub.status.busy": "2022-03-12T18:58:15.024687Z",
     "iopub.status.idle": "2022-03-12T18:59:29.512532Z",
     "shell.execute_reply": "2022-03-12T18:59:29.511667Z",
     "shell.execute_reply.started": "2022-03-12T18:44:02.052714Z"
    },
    "papermill": {
     "duration": 74.5432,
     "end_time": "2022-03-12T18:59:29.512751",
     "exception": false,
     "start_time": "2022-03-12T18:58:14.969551",
     "status": "completed"
    },
    "tags": []
   },
   "outputs": [
    {
     "name": "stdout",
     "output_type": "stream",
     "text": [
      "{'max_depth': None, 'min_samples_leaf': 3, 'n_estimators': 100}\n"
     ]
    },
    {
     "data": {
      "text/plain": [
       "0.7899305555555557"
      ]
     },
     "execution_count": 22,
     "metadata": {},
     "output_type": "execute_result"
    }
   ],
   "source": [
    "from sklearn.ensemble import RandomForestClassifier\n",
    "RFC=RandomForestClassifier()\n",
    "\n",
    "from sklearn.model_selection import GridSearchCV\n",
    "param_grid = {\n",
    "    'n_estimators': [100,150,200,250],\n",
    "    'max_depth': [None,1,2,3],\n",
    "    'min_samples_leaf': [3,4,5,6]\n",
    "}\n",
    "gsF = GridSearchCV(RFC, param_grid = param_grid, cv=3, verbose=0)\n",
    "gsF.fit(features,target)\n",
    "\n",
    "print(gsF.best_params_)\n",
    "acc_RFG=gsF.best_score_\n",
    "acc_RFG"
   ]
  },
  {
   "cell_type": "code",
   "execution_count": 23,
   "id": "5c91d068",
   "metadata": {
    "execution": {
     "iopub.execute_input": "2022-03-12T18:59:29.622745Z",
     "iopub.status.busy": "2022-03-12T18:59:29.621993Z",
     "iopub.status.idle": "2022-03-12T18:59:31.094884Z",
     "shell.execute_reply": "2022-03-12T18:59:31.095419Z",
     "shell.execute_reply.started": "2022-03-12T18:45:23.715220Z"
    },
    "papermill": {
     "duration": 1.528886,
     "end_time": "2022-03-12T18:59:31.095637",
     "exception": false,
     "start_time": "2022-03-12T18:59:29.566751",
     "status": "completed"
    },
    "tags": []
   },
   "outputs": [
    {
     "name": "stdout",
     "output_type": "stream",
     "text": [
      "[0.71098266 0.78034682 0.75144509 0.79190751 0.74566474 0.78034682\n",
      " 0.79190751 0.78612717 0.77906977 0.80232558]\n"
     ]
    },
    {
     "data": {
      "text/plain": [
       "0.7720123672536631"
      ]
     },
     "execution_count": 23,
     "metadata": {},
     "output_type": "execute_result"
    }
   ],
   "source": [
    "from sklearn.ensemble import AdaBoostClassifier\n",
    "model=AdaBoostClassifier()\n",
    "\n",
    "from sklearn.model_selection import KFold, cross_val_score\n",
    "kfold=KFold(n_splits=10,  shuffle=True)\n",
    "\n",
    "results =cross_val_score(model,features,target, cv=kfold)\n",
    "print(results)\n",
    "acc_ADB=results.mean()\n",
    "acc_ADB"
   ]
  },
  {
   "cell_type": "code",
   "execution_count": 24,
   "id": "7b0696a3",
   "metadata": {
    "execution": {
     "iopub.execute_input": "2022-03-12T18:59:31.217119Z",
     "iopub.status.busy": "2022-03-12T18:59:31.216247Z",
     "iopub.status.idle": "2022-03-12T18:59:38.603532Z",
     "shell.execute_reply": "2022-03-12T18:59:38.602480Z",
     "shell.execute_reply.started": "2022-03-12T18:45:27.761449Z"
    },
    "papermill": {
     "duration": 7.450939,
     "end_time": "2022-03-12T18:59:38.603728",
     "exception": false,
     "start_time": "2022-03-12T18:59:31.152789",
     "status": "completed"
    },
    "tags": []
   },
   "outputs": [
    {
     "name": "stdout",
     "output_type": "stream",
     "text": [
      "[0.98265896 0.97687861 0.98265896 0.98843931 0.95953757 0.97109827\n",
      " 0.99421965 1.         0.98255814 0.98837209]\n"
     ]
    },
    {
     "data": {
      "text/plain": [
       "0.9826421562037908"
      ]
     },
     "execution_count": 24,
     "metadata": {},
     "output_type": "execute_result"
    }
   ],
   "source": [
    "from sklearn.ensemble import GradientBoostingClassifier\n",
    "model2=GradientBoostingClassifier()\n",
    "\n",
    "from sklearn.model_selection import KFold, cross_val_score\n",
    "kfold=KFold(n_splits=10,  shuffle=True)\n",
    "\n",
    "results =cross_val_score(model2,features,target, cv=kfold)\n",
    "print(results)\n",
    "acc_GBC=results.mean()\n",
    "acc_GBC"
   ]
  },
  {
   "cell_type": "code",
   "execution_count": 25,
   "id": "b16d4e2f",
   "metadata": {
    "execution": {
     "iopub.execute_input": "2022-03-12T18:59:38.727075Z",
     "iopub.status.busy": "2022-03-12T18:59:38.725781Z",
     "iopub.status.idle": "2022-03-12T18:59:44.555532Z",
     "shell.execute_reply": "2022-03-12T18:59:44.554801Z",
     "shell.execute_reply.started": "2022-03-12T18:45:36.978982Z"
    },
    "papermill": {
     "duration": 5.892939,
     "end_time": "2022-03-12T18:59:44.555753",
     "exception": false,
     "start_time": "2022-03-12T18:59:38.662814",
     "status": "completed"
    },
    "scrolled": true,
    "tags": []
   },
   "outputs": [
    {
     "name": "stderr",
     "output_type": "stream",
     "text": [
      "/opt/conda/lib/python3.7/site-packages/xgboost/sklearn.py:1224: UserWarning: The use of label encoder in XGBClassifier is deprecated and will be removed in a future release. To remove this warning, do the following: 1) Pass option use_label_encoder=False when constructing XGBClassifier object; and 2) Encode your labels (y) as integers starting with 0, i.e. 0, 1, 2, ..., [num_class - 1].\n",
      "  warnings.warn(label_encoder_deprecation_msg, UserWarning)\n"
     ]
    },
    {
     "name": "stdout",
     "output_type": "stream",
     "text": [
      "[18:59:38] WARNING: ../src/learner.cc:1115: Starting in XGBoost 1.3.0, the default evaluation metric used with the objective 'multi:softprob' was changed from 'merror' to 'mlogloss'. Explicitly set eval_metric if you'd like to restore the old behavior.\n"
     ]
    },
    {
     "name": "stderr",
     "output_type": "stream",
     "text": [
      "/opt/conda/lib/python3.7/site-packages/xgboost/sklearn.py:1224: UserWarning: The use of label encoder in XGBClassifier is deprecated and will be removed in a future release. To remove this warning, do the following: 1) Pass option use_label_encoder=False when constructing XGBClassifier object; and 2) Encode your labels (y) as integers starting with 0, i.e. 0, 1, 2, ..., [num_class - 1].\n",
      "  warnings.warn(label_encoder_deprecation_msg, UserWarning)\n"
     ]
    },
    {
     "name": "stdout",
     "output_type": "stream",
     "text": [
      "[18:59:39] WARNING: ../src/learner.cc:1115: Starting in XGBoost 1.3.0, the default evaluation metric used with the objective 'multi:softprob' was changed from 'merror' to 'mlogloss'. Explicitly set eval_metric if you'd like to restore the old behavior.\n"
     ]
    },
    {
     "name": "stderr",
     "output_type": "stream",
     "text": [
      "/opt/conda/lib/python3.7/site-packages/xgboost/sklearn.py:1224: UserWarning: The use of label encoder in XGBClassifier is deprecated and will be removed in a future release. To remove this warning, do the following: 1) Pass option use_label_encoder=False when constructing XGBClassifier object; and 2) Encode your labels (y) as integers starting with 0, i.e. 0, 1, 2, ..., [num_class - 1].\n",
      "  warnings.warn(label_encoder_deprecation_msg, UserWarning)\n"
     ]
    },
    {
     "name": "stdout",
     "output_type": "stream",
     "text": [
      "[18:59:40] WARNING: ../src/learner.cc:1115: Starting in XGBoost 1.3.0, the default evaluation metric used with the objective 'multi:softprob' was changed from 'merror' to 'mlogloss'. Explicitly set eval_metric if you'd like to restore the old behavior.\n"
     ]
    },
    {
     "name": "stderr",
     "output_type": "stream",
     "text": [
      "/opt/conda/lib/python3.7/site-packages/xgboost/sklearn.py:1224: UserWarning: The use of label encoder in XGBClassifier is deprecated and will be removed in a future release. To remove this warning, do the following: 1) Pass option use_label_encoder=False when constructing XGBClassifier object; and 2) Encode your labels (y) as integers starting with 0, i.e. 0, 1, 2, ..., [num_class - 1].\n",
      "  warnings.warn(label_encoder_deprecation_msg, UserWarning)\n"
     ]
    },
    {
     "name": "stdout",
     "output_type": "stream",
     "text": [
      "[18:59:40] WARNING: ../src/learner.cc:1115: Starting in XGBoost 1.3.0, the default evaluation metric used with the objective 'multi:softprob' was changed from 'merror' to 'mlogloss'. Explicitly set eval_metric if you'd like to restore the old behavior.\n"
     ]
    },
    {
     "name": "stderr",
     "output_type": "stream",
     "text": [
      "/opt/conda/lib/python3.7/site-packages/xgboost/sklearn.py:1224: UserWarning: The use of label encoder in XGBClassifier is deprecated and will be removed in a future release. To remove this warning, do the following: 1) Pass option use_label_encoder=False when constructing XGBClassifier object; and 2) Encode your labels (y) as integers starting with 0, i.e. 0, 1, 2, ..., [num_class - 1].\n",
      "  warnings.warn(label_encoder_deprecation_msg, UserWarning)\n"
     ]
    },
    {
     "name": "stdout",
     "output_type": "stream",
     "text": [
      "[18:59:41] WARNING: ../src/learner.cc:1115: Starting in XGBoost 1.3.0, the default evaluation metric used with the objective 'multi:softprob' was changed from 'merror' to 'mlogloss'. Explicitly set eval_metric if you'd like to restore the old behavior.\n"
     ]
    },
    {
     "name": "stderr",
     "output_type": "stream",
     "text": [
      "/opt/conda/lib/python3.7/site-packages/xgboost/sklearn.py:1224: UserWarning: The use of label encoder in XGBClassifier is deprecated and will be removed in a future release. To remove this warning, do the following: 1) Pass option use_label_encoder=False when constructing XGBClassifier object; and 2) Encode your labels (y) as integers starting with 0, i.e. 0, 1, 2, ..., [num_class - 1].\n",
      "  warnings.warn(label_encoder_deprecation_msg, UserWarning)\n"
     ]
    },
    {
     "name": "stdout",
     "output_type": "stream",
     "text": [
      "[18:59:41] WARNING: ../src/learner.cc:1115: Starting in XGBoost 1.3.0, the default evaluation metric used with the objective 'multi:softprob' was changed from 'merror' to 'mlogloss'. Explicitly set eval_metric if you'd like to restore the old behavior.\n"
     ]
    },
    {
     "name": "stderr",
     "output_type": "stream",
     "text": [
      "/opt/conda/lib/python3.7/site-packages/xgboost/sklearn.py:1224: UserWarning: The use of label encoder in XGBClassifier is deprecated and will be removed in a future release. To remove this warning, do the following: 1) Pass option use_label_encoder=False when constructing XGBClassifier object; and 2) Encode your labels (y) as integers starting with 0, i.e. 0, 1, 2, ..., [num_class - 1].\n",
      "  warnings.warn(label_encoder_deprecation_msg, UserWarning)\n"
     ]
    },
    {
     "name": "stdout",
     "output_type": "stream",
     "text": [
      "[18:59:42] WARNING: ../src/learner.cc:1115: Starting in XGBoost 1.3.0, the default evaluation metric used with the objective 'multi:softprob' was changed from 'merror' to 'mlogloss'. Explicitly set eval_metric if you'd like to restore the old behavior.\n"
     ]
    },
    {
     "name": "stderr",
     "output_type": "stream",
     "text": [
      "/opt/conda/lib/python3.7/site-packages/xgboost/sklearn.py:1224: UserWarning: The use of label encoder in XGBClassifier is deprecated and will be removed in a future release. To remove this warning, do the following: 1) Pass option use_label_encoder=False when constructing XGBClassifier object; and 2) Encode your labels (y) as integers starting with 0, i.e. 0, 1, 2, ..., [num_class - 1].\n",
      "  warnings.warn(label_encoder_deprecation_msg, UserWarning)\n"
     ]
    },
    {
     "name": "stdout",
     "output_type": "stream",
     "text": [
      "[18:59:42] WARNING: ../src/learner.cc:1115: Starting in XGBoost 1.3.0, the default evaluation metric used with the objective 'multi:softprob' was changed from 'merror' to 'mlogloss'. Explicitly set eval_metric if you'd like to restore the old behavior.\n"
     ]
    },
    {
     "name": "stderr",
     "output_type": "stream",
     "text": [
      "/opt/conda/lib/python3.7/site-packages/xgboost/sklearn.py:1224: UserWarning: The use of label encoder in XGBClassifier is deprecated and will be removed in a future release. To remove this warning, do the following: 1) Pass option use_label_encoder=False when constructing XGBClassifier object; and 2) Encode your labels (y) as integers starting with 0, i.e. 0, 1, 2, ..., [num_class - 1].\n",
      "  warnings.warn(label_encoder_deprecation_msg, UserWarning)\n"
     ]
    },
    {
     "name": "stdout",
     "output_type": "stream",
     "text": [
      "[18:59:43] WARNING: ../src/learner.cc:1115: Starting in XGBoost 1.3.0, the default evaluation metric used with the objective 'multi:softprob' was changed from 'merror' to 'mlogloss'. Explicitly set eval_metric if you'd like to restore the old behavior.\n"
     ]
    },
    {
     "name": "stderr",
     "output_type": "stream",
     "text": [
      "/opt/conda/lib/python3.7/site-packages/xgboost/sklearn.py:1224: UserWarning: The use of label encoder in XGBClassifier is deprecated and will be removed in a future release. To remove this warning, do the following: 1) Pass option use_label_encoder=False when constructing XGBClassifier object; and 2) Encode your labels (y) as integers starting with 0, i.e. 0, 1, 2, ..., [num_class - 1].\n",
      "  warnings.warn(label_encoder_deprecation_msg, UserWarning)\n"
     ]
    },
    {
     "name": "stdout",
     "output_type": "stream",
     "text": [
      "[18:59:43] WARNING: ../src/learner.cc:1115: Starting in XGBoost 1.3.0, the default evaluation metric used with the objective 'multi:softprob' was changed from 'merror' to 'mlogloss'. Explicitly set eval_metric if you'd like to restore the old behavior.\n",
      "[0.98843931 0.98843931 1.         0.99421965 1.         1.\n",
      " 1.         0.99421965 0.98255814 1.        ]\n"
     ]
    },
    {
     "data": {
      "text/plain": [
       "0.9947876058610028"
      ]
     },
     "execution_count": 25,
     "metadata": {},
     "output_type": "execute_result"
    }
   ],
   "source": [
    "from xgboost import XGBClassifier\n",
    "model3=XGBClassifier()\n",
    "\n",
    "from sklearn.model_selection import KFold, cross_val_score\n",
    "kfold=KFold(n_splits=10,  shuffle=True)\n",
    "\n",
    "results =cross_val_score(model3,features,target, cv=kfold)\n",
    "print(results)\n",
    "acc_XGB=results.mean()\n",
    "acc_XGB"
   ]
  },
  {
   "cell_type": "code",
   "execution_count": 26,
   "id": "d9b4e485",
   "metadata": {
    "execution": {
     "iopub.execute_input": "2022-03-12T18:59:44.696590Z",
     "iopub.status.busy": "2022-03-12T18:59:44.691103Z",
     "iopub.status.idle": "2022-03-12T18:59:44.967064Z",
     "shell.execute_reply": "2022-03-12T18:59:44.967586Z",
     "shell.execute_reply.started": "2022-03-12T18:45:45.794715Z"
    },
    "papermill": {
     "duration": 0.346224,
     "end_time": "2022-03-12T18:59:44.967794",
     "exception": false,
     "start_time": "2022-03-12T18:59:44.621570",
     "status": "completed"
    },
    "tags": []
   },
   "outputs": [
    {
     "data": {
      "text/plain": [
       "0.9768518518518519"
      ]
     },
     "execution_count": 26,
     "metadata": {},
     "output_type": "execute_result"
    }
   ],
   "source": [
    "from sklearn.ensemble import RandomForestClassifier\n",
    "RFC=RandomForestClassifier()\n",
    "\n",
    "RFC.fit(x_train,y_train)\n",
    "y_predRFC=RFC.predict(x_test)\n",
    "\n",
    "from sklearn.metrics import accuracy_score\n",
    "acc_RFC=accuracy_score(y_predRFC,y_test)\n",
    "acc_RFC"
   ]
  },
  {
   "cell_type": "code",
   "execution_count": 27,
   "id": "97d0508d",
   "metadata": {
    "execution": {
     "iopub.execute_input": "2022-03-12T18:59:45.103827Z",
     "iopub.status.busy": "2022-03-12T18:59:45.102599Z",
     "iopub.status.idle": "2022-03-12T18:59:45.117386Z",
     "shell.execute_reply": "2022-03-12T18:59:45.116699Z",
     "shell.execute_reply.started": "2022-03-12T18:45:48.665199Z"
    },
    "papermill": {
     "duration": 0.087686,
     "end_time": "2022-03-12T18:59:45.117607",
     "exception": false,
     "start_time": "2022-03-12T18:59:45.029921",
     "status": "completed"
    },
    "tags": []
   },
   "outputs": [
    {
     "data": {
      "text/plain": [
       "0.7893518518518519"
      ]
     },
     "execution_count": 27,
     "metadata": {},
     "output_type": "execute_result"
    }
   ],
   "source": [
    "from sklearn.naive_bayes import BernoulliNB\n",
    "BNB=BernoulliNB()\n",
    "\n",
    "\n",
    "BNB.fit(x_train,y_train)\n",
    "y_predB=BNB.predict(x_test)\n",
    "\n",
    "from sklearn.metrics import accuracy_score\n",
    "acc_BNB=accuracy_score(y_predB,y_test)\n",
    "acc_BNB"
   ]
  },
  {
   "cell_type": "code",
   "execution_count": 28,
   "id": "c25bc25d",
   "metadata": {
    "execution": {
     "iopub.execute_input": "2022-03-12T18:59:45.261531Z",
     "iopub.status.busy": "2022-03-12T18:59:45.260740Z",
     "iopub.status.idle": "2022-03-12T18:59:45.274973Z",
     "shell.execute_reply": "2022-03-12T18:59:45.275798Z",
     "shell.execute_reply.started": "2022-03-12T18:45:50.853786Z"
    },
    "papermill": {
     "duration": 0.090484,
     "end_time": "2022-03-12T18:59:45.276156",
     "exception": false,
     "start_time": "2022-03-12T18:59:45.185672",
     "status": "completed"
    },
    "tags": []
   },
   "outputs": [
    {
     "data": {
      "text/plain": [
       "0.7175925925925926"
      ]
     },
     "execution_count": 28,
     "metadata": {},
     "output_type": "execute_result"
    }
   ],
   "source": [
    "from sklearn.naive_bayes import MultinomialNB\n",
    "MNB=MultinomialNB()\n",
    "\n",
    "MNB.fit(x_train,y_train)\n",
    "y_predM=MNB.predict(x_test)\n",
    "\n",
    "from sklearn.metrics import accuracy_score\n",
    "acc_MNB=accuracy_score(y_predM,y_test)\n",
    "acc_MNB"
   ]
  },
  {
   "cell_type": "code",
   "execution_count": 29,
   "id": "432f33f8",
   "metadata": {
    "execution": {
     "iopub.execute_input": "2022-03-12T18:59:45.425678Z",
     "iopub.status.busy": "2022-03-12T18:59:45.424816Z",
     "iopub.status.idle": "2022-03-12T18:59:45.608336Z",
     "shell.execute_reply": "2022-03-12T18:59:45.608918Z",
     "shell.execute_reply.started": "2022-03-12T18:45:56.780377Z"
    },
    "papermill": {
     "duration": 0.260487,
     "end_time": "2022-03-12T18:59:45.609122",
     "exception": false,
     "start_time": "2022-03-12T18:59:45.348635",
     "status": "completed"
    },
    "tags": []
   },
   "outputs": [
    {
     "name": "stderr",
     "output_type": "stream",
     "text": [
      "/opt/conda/lib/python3.7/site-packages/sklearn/svm/_base.py:1208: ConvergenceWarning: Liblinear failed to converge, increase the number of iterations.\n",
      "  ConvergenceWarning,\n"
     ]
    },
    {
     "data": {
      "text/plain": [
       "0.7037037037037037"
      ]
     },
     "execution_count": 29,
     "metadata": {},
     "output_type": "execute_result"
    }
   ],
   "source": [
    "from sklearn.svm import LinearSVC\n",
    "sv=LinearSVC()\n",
    "\n",
    "sv.fit(x_train,y_train)\n",
    "y_predV=sv.predict(x_test)\n",
    "\n",
    "from sklearn.metrics import accuracy_score\n",
    "acc_lsv=accuracy_score(y_predV,y_test)\n",
    "acc_lsv"
   ]
  },
  {
   "cell_type": "code",
   "execution_count": 30,
   "id": "63f9cf55",
   "metadata": {
    "execution": {
     "iopub.execute_input": "2022-03-12T18:59:45.750684Z",
     "iopub.status.busy": "2022-03-12T18:59:45.749948Z",
     "iopub.status.idle": "2022-03-12T18:59:45.757998Z",
     "shell.execute_reply": "2022-03-12T18:59:45.758526Z",
     "shell.execute_reply.started": "2022-03-12T18:46:01.276385Z"
    },
    "papermill": {
     "duration": 0.086096,
     "end_time": "2022-03-12T18:59:45.758735",
     "exception": false,
     "start_time": "2022-03-12T18:59:45.672639",
     "status": "completed"
    },
    "tags": []
   },
   "outputs": [
    {
     "data": {
      "text/plain": [
       "0.6527777777777778"
      ]
     },
     "execution_count": 30,
     "metadata": {},
     "output_type": "execute_result"
    }
   ],
   "source": [
    "from sklearn.naive_bayes import ComplementNB\n",
    "PNB=ComplementNB()\n",
    "\n",
    "PNB.fit(x_train,y_train)\n",
    "y_predP=PNB.predict(x_test)\n",
    "\n",
    "from sklearn.metrics import accuracy_score\n",
    "acc_PNB=accuracy_score(y_predP,y_test)\n",
    "acc_PNB"
   ]
  },
  {
   "cell_type": "code",
   "execution_count": 31,
   "id": "ccef2e1a",
   "metadata": {
    "execution": {
     "iopub.execute_input": "2022-03-12T18:59:45.899038Z",
     "iopub.status.busy": "2022-03-12T18:59:45.898174Z",
     "iopub.status.idle": "2022-03-12T18:59:45.906813Z",
     "shell.execute_reply": "2022-03-12T18:59:45.907351Z",
     "shell.execute_reply.started": "2022-03-12T18:54:29.043915Z"
    },
    "papermill": {
     "duration": 0.079175,
     "end_time": "2022-03-12T18:59:45.907559",
     "exception": false,
     "start_time": "2022-03-12T18:59:45.828384",
     "status": "completed"
    },
    "tags": []
   },
   "outputs": [],
   "source": [
    "compartion=pd.DataFrame({\n",
    "    \"Model_no\":[\"model_1\",\"model_2\",\"model_3\",\"model_4\",\"model_5\",\"model_6\",\"model_7\",\"model_8\",\"model_9\",\"model_10\",\n",
    "                \"model_11\",\"model_12\",\"model_13\",\"model_14\",\"model_15\"],\n",
    "    \n",
    "    \"Algorithm\":[\"DecisionTreeClassifier\",\"DecisionTreeClassifier\",\"KNeighborsClassifier(k=35)\",\"KNeighborsClassifier(k=39)\"\n",
    "                 ,\"LinearSVC\",\"SVC\",\"ComplementNB\",\"MultinomialNB\",\"BernoulliNB\",\"CategoricalNB\",\"RandomForestClassifier\",\n",
    "                 \"RandomForestClassifier\",\"AdaBoostClassifier\",\"GradientBoostingClassifier\",\"XGBClassifier\"],\n",
    "    \n",
    "    \"Model selection\":[\"train_test_split\",\"GridSearchCV\",\"train_test_split\",\"GridSearchCV\",\"train_test_split\",\n",
    "                       \"train_test_split\",\"train_test_split\",\"train_test_split\",\"train_test_split\",\"train_test_split\",\n",
    "                       \"train_test_split\",\"GridSearchCV\",\"KFold & cross_val_score\",\"KFold & cross_val_score\",\n",
    "                       \"KFold & cross_val_score\"],\n",
    "    \n",
    "    \"Accuracy\":[acc_DT, acc_DTG, acc_knn, acc_KNNG, acc_lsv, acc_sv, acc_PNB, acc_MNB, acc_BNB, acc_CNB, acc_RFC,\n",
    "                acc_RFG, acc_ADB, acc_GBC, acc_XGB]\n",
    "})"
   ]
  },
  {
   "cell_type": "code",
   "execution_count": 32,
   "id": "4eeea91f",
   "metadata": {
    "execution": {
     "iopub.execute_input": "2022-03-12T18:59:46.050951Z",
     "iopub.status.busy": "2022-03-12T18:59:46.049725Z",
     "iopub.status.idle": "2022-03-12T18:59:46.064343Z",
     "shell.execute_reply": "2022-03-12T18:59:46.064896Z",
     "shell.execute_reply.started": "2022-03-12T18:54:30.245194Z"
    },
    "papermill": {
     "duration": 0.088027,
     "end_time": "2022-03-12T18:59:46.065098",
     "exception": false,
     "start_time": "2022-03-12T18:59:45.977071",
     "status": "completed"
    },
    "tags": []
   },
   "outputs": [
    {
     "data": {
      "text/html": [
       "<div>\n",
       "<style scoped>\n",
       "    .dataframe tbody tr th:only-of-type {\n",
       "        vertical-align: middle;\n",
       "    }\n",
       "\n",
       "    .dataframe tbody tr th {\n",
       "        vertical-align: top;\n",
       "    }\n",
       "\n",
       "    .dataframe thead th {\n",
       "        text-align: right;\n",
       "    }\n",
       "</style>\n",
       "<table border=\"1\" class=\"dataframe\">\n",
       "  <thead>\n",
       "    <tr style=\"text-align: right;\">\n",
       "      <th></th>\n",
       "      <th>Model_no</th>\n",
       "      <th>Algorithm</th>\n",
       "      <th>Model selection</th>\n",
       "      <th>Accuracy</th>\n",
       "    </tr>\n",
       "  </thead>\n",
       "  <tbody>\n",
       "    <tr>\n",
       "      <th>0</th>\n",
       "      <td>model_1</td>\n",
       "      <td>DecisionTreeClassifier</td>\n",
       "      <td>train_test_split</td>\n",
       "      <td>0.979167</td>\n",
       "    </tr>\n",
       "    <tr>\n",
       "      <th>1</th>\n",
       "      <td>model_2</td>\n",
       "      <td>DecisionTreeClassifier</td>\n",
       "      <td>GridSearchCV</td>\n",
       "      <td>0.769097</td>\n",
       "    </tr>\n",
       "    <tr>\n",
       "      <th>2</th>\n",
       "      <td>model_3</td>\n",
       "      <td>KNeighborsClassifier(k=35)</td>\n",
       "      <td>train_test_split</td>\n",
       "      <td>0.787037</td>\n",
       "    </tr>\n",
       "    <tr>\n",
       "      <th>3</th>\n",
       "      <td>model_4</td>\n",
       "      <td>KNeighborsClassifier(k=39)</td>\n",
       "      <td>GridSearchCV</td>\n",
       "      <td>0.689236</td>\n",
       "    </tr>\n",
       "    <tr>\n",
       "      <th>4</th>\n",
       "      <td>model_5</td>\n",
       "      <td>LinearSVC</td>\n",
       "      <td>train_test_split</td>\n",
       "      <td>0.703704</td>\n",
       "    </tr>\n",
       "    <tr>\n",
       "      <th>5</th>\n",
       "      <td>model_6</td>\n",
       "      <td>SVC</td>\n",
       "      <td>train_test_split</td>\n",
       "      <td>0.923611</td>\n",
       "    </tr>\n",
       "    <tr>\n",
       "      <th>6</th>\n",
       "      <td>model_7</td>\n",
       "      <td>ComplementNB</td>\n",
       "      <td>train_test_split</td>\n",
       "      <td>0.652778</td>\n",
       "    </tr>\n",
       "    <tr>\n",
       "      <th>7</th>\n",
       "      <td>model_8</td>\n",
       "      <td>MultinomialNB</td>\n",
       "      <td>train_test_split</td>\n",
       "      <td>0.717593</td>\n",
       "    </tr>\n",
       "    <tr>\n",
       "      <th>8</th>\n",
       "      <td>model_9</td>\n",
       "      <td>BernoulliNB</td>\n",
       "      <td>train_test_split</td>\n",
       "      <td>0.789352</td>\n",
       "    </tr>\n",
       "    <tr>\n",
       "      <th>9</th>\n",
       "      <td>model_10</td>\n",
       "      <td>CategoricalNB</td>\n",
       "      <td>train_test_split</td>\n",
       "      <td>0.872685</td>\n",
       "    </tr>\n",
       "    <tr>\n",
       "      <th>10</th>\n",
       "      <td>model_11</td>\n",
       "      <td>RandomForestClassifier</td>\n",
       "      <td>train_test_split</td>\n",
       "      <td>0.976852</td>\n",
       "    </tr>\n",
       "    <tr>\n",
       "      <th>11</th>\n",
       "      <td>model_12</td>\n",
       "      <td>RandomForestClassifier</td>\n",
       "      <td>GridSearchCV</td>\n",
       "      <td>0.789931</td>\n",
       "    </tr>\n",
       "    <tr>\n",
       "      <th>12</th>\n",
       "      <td>model_13</td>\n",
       "      <td>AdaBoostClassifier</td>\n",
       "      <td>KFold &amp; cross_val_score</td>\n",
       "      <td>0.772012</td>\n",
       "    </tr>\n",
       "    <tr>\n",
       "      <th>13</th>\n",
       "      <td>model_14</td>\n",
       "      <td>GradientBoostingClassifier</td>\n",
       "      <td>KFold &amp; cross_val_score</td>\n",
       "      <td>0.982642</td>\n",
       "    </tr>\n",
       "    <tr>\n",
       "      <th>14</th>\n",
       "      <td>model_15</td>\n",
       "      <td>XGBClassifier</td>\n",
       "      <td>KFold &amp; cross_val_score</td>\n",
       "      <td>0.994788</td>\n",
       "    </tr>\n",
       "  </tbody>\n",
       "</table>\n",
       "</div>"
      ],
      "text/plain": [
       "    Model_no                   Algorithm          Model selection  Accuracy\n",
       "0    model_1      DecisionTreeClassifier         train_test_split  0.979167\n",
       "1    model_2      DecisionTreeClassifier             GridSearchCV  0.769097\n",
       "2    model_3  KNeighborsClassifier(k=35)         train_test_split  0.787037\n",
       "3    model_4  KNeighborsClassifier(k=39)             GridSearchCV  0.689236\n",
       "4    model_5                   LinearSVC         train_test_split  0.703704\n",
       "5    model_6                         SVC         train_test_split  0.923611\n",
       "6    model_7                ComplementNB         train_test_split  0.652778\n",
       "7    model_8               MultinomialNB         train_test_split  0.717593\n",
       "8    model_9                 BernoulliNB         train_test_split  0.789352\n",
       "9   model_10               CategoricalNB         train_test_split  0.872685\n",
       "10  model_11      RandomForestClassifier         train_test_split  0.976852\n",
       "11  model_12      RandomForestClassifier             GridSearchCV  0.789931\n",
       "12  model_13          AdaBoostClassifier  KFold & cross_val_score  0.772012\n",
       "13  model_14  GradientBoostingClassifier  KFold & cross_val_score  0.982642\n",
       "14  model_15               XGBClassifier  KFold & cross_val_score  0.994788"
      ]
     },
     "execution_count": 32,
     "metadata": {},
     "output_type": "execute_result"
    }
   ],
   "source": [
    "compartion"
   ]
  },
  {
   "cell_type": "markdown",
   "id": "e6c53570",
   "metadata": {
    "papermill": {
     "duration": 0.071931,
     "end_time": "2022-03-12T18:59:46.209064",
     "exception": false,
     "start_time": "2022-03-12T18:59:46.137133",
     "status": "completed"
    },
    "tags": []
   },
   "source": [
    "#### maybe the following models are overfitted { model_1 , model_11  ,model_14 , model_15 }\n"
   ]
  },
  {
   "cell_type": "code",
   "execution_count": null,
   "id": "42ceed2c",
   "metadata": {
    "papermill": {
     "duration": 0.090949,
     "end_time": "2022-03-12T18:59:46.368498",
     "exception": false,
     "start_time": "2022-03-12T18:59:46.277549",
     "status": "completed"
    },
    "tags": []
   },
   "outputs": [],
   "source": []
  }
 ],
 "metadata": {
  "kernelspec": {
   "display_name": "Python 3",
   "language": "python",
   "name": "python3"
  },
  "language_info": {
   "codemirror_mode": {
    "name": "ipython",
    "version": 3
   },
   "file_extension": ".py",
   "mimetype": "text/x-python",
   "name": "python",
   "nbconvert_exporter": "python",
   "pygments_lexer": "ipython3",
   "version": "3.7.12"
  },
  "papermill": {
   "default_parameters": {},
   "duration": 137.350218,
   "end_time": "2022-03-12T18:59:47.555261",
   "environment_variables": {},
   "exception": null,
   "input_path": "__notebook__.ipynb",
   "output_path": "__notebook__.ipynb",
   "parameters": {},
   "start_time": "2022-03-12T18:57:30.205043",
   "version": "2.3.3"
  }
 },
 "nbformat": 4,
 "nbformat_minor": 5
}
